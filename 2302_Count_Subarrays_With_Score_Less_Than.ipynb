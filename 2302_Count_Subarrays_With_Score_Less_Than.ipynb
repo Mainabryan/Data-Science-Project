{
  "nbformat": 4,
  "nbformat_minor": 0,
  "metadata": {
    "colab": {
      "provenance": [],
      "authorship_tag": "ABX9TyOt34YltNDv5K+yOdRGMm2I",
      "include_colab_link": true
    },
    "kernelspec": {
      "name": "python3",
      "display_name": "Python 3"
    },
    "language_info": {
      "name": "python"
    }
  },
  "cells": [
    {
      "cell_type": "markdown",
      "metadata": {
        "id": "view-in-github",
        "colab_type": "text"
      },
      "source": [
        "<a href=\"https://colab.research.google.com/github/Mainabryan/Data-Science-Project/blob/main/2302_Count_Subarrays_With_Score_Less_Than.ipynb\" target=\"_parent\"><img src=\"https://colab.research.google.com/assets/colab-badge.svg\" alt=\"Open In Colab\"/></a>"
      ]
    },
    {
      "cell_type": "code",
      "source": [
        "# Given array and k\n",
        "nums = [1, 2, 3]\n",
        "k = 10\n",
        "\n",
        "# Variable to count good subarrays\n",
        "count = 0\n",
        "\n",
        "# Loop over all starting points\n",
        "for start in range(len(nums)):\n",
        "    total = 0  # sum of elements\n",
        "    # Loop over all ending points\n",
        "    for end in range(start, len(nums)):\n",
        "        total += nums[end]  # add current element\n",
        "        length = end - start + 1  # number of elements\n",
        "        score = total * length  # calculate the score\n",
        "        if score < k:\n",
        "            count += 1  # good subarray found!\n",
        "\n",
        "print(count)  # Final answer\n"
      ],
      "metadata": {
        "id": "x6EKO1_ZvkOC",
        "outputId": "920c6215-18eb-4d0e-cefc-9dad611f29f3",
        "colab": {
          "base_uri": "https://localhost:8080/"
        }
      },
      "execution_count": 2,
      "outputs": [
        {
          "output_type": "stream",
          "name": "stdout",
          "text": [
            "4\n"
          ]
        }
      ]
    },
    {
      "cell_type": "code",
      "execution_count": 1,
      "metadata": {
        "colab": {
          "base_uri": "https://localhost:8080/"
        },
        "id": "wZtqYPzaqp5Y",
        "outputId": "85cc74e8-d118-4565-cfef-f209ccaf0d7a"
      },
      "outputs": [
        {
          "output_type": "stream",
          "name": "stdout",
          "text": [
            "Number of subarrays with sum less than 5: 5\n"
          ]
        }
      ],
      "source": [
        "def count_subarrays(arr, threshold):\n",
        "    count = 0\n",
        "    n = len(arr)\n",
        "\n",
        "    # Iterate over all possible subarrays\n",
        "    for i in range(n):\n",
        "        for j in range(i, n):\n",
        "            # Calculate the sum of the subarray arr[i:j+1]\n",
        "            if sum(arr[i:j+1]) < threshold:\n",
        "                count += 1\n",
        "\n",
        "    return count\n",
        "\n",
        "arr = [1, 2, 3, 4]\n",
        "threshold = 5\n",
        "result = count_subarrays(arr, threshold)\n",
        "print(f\"Number of subarrays with sum less than {threshold}: {result}\")\n",
        "\n",
        "Code\n",
        "Testcase\n",
        "Test Result\n",
        "Test Result\n",
        "2302. Count Subarrays With Score Less Than K"
      ]
    }
  ]
}