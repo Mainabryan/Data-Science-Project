{
  "nbformat": 4,
  "nbformat_minor": 0,
  "metadata": {
    "colab": {
      "provenance": [],
      "authorship_tag": "ABX9TyNzwmYOXzMYzu8k5rWmSTWb",
      "include_colab_link": true
    },
    "kernelspec": {
      "name": "python3",
      "display_name": "Python 3"
    },
    "language_info": {
      "name": "python"
    }
  },
  "cells": [
    {
      "cell_type": "markdown",
      "metadata": {
        "id": "view-in-github",
        "colab_type": "text"
      },
      "source": [
        "<a href=\"https://colab.research.google.com/github/Mainabryan/Data-Science-Project/blob/main/ADVANCE_D_CALCULATOR.ipynb\" target=\"_parent\"><img src=\"https://colab.research.google.com/assets/colab-badge.svg\" alt=\"Open In Colab\"/></a>"
      ]
    },
    {
      "cell_type": "code",
      "execution_count": null,
      "metadata": {
        "colab": {
          "base_uri": "https://localhost:8080/"
        },
        "id": "1QYcs299BlOG",
        "outputId": "39fe11e2-e886-4606-f12b-78404dd1d278"
      },
      "outputs": [
        {
          "output_type": "stream",
          "name": "stdout",
          "text": [
            "\n",
            "--- Simple Calculator ---\n"
          ]
        }
      ],
      "source": [
        "class Calculator:\n",
        "    def __init__(self):\n",
        "        self.operations = {\n",
        "            \"+\": lambda x, y: x + y,\n",
        "            \"-\": lambda x, y: x - y,\n",
        "            \"*\": lambda x, y: x * y,\n",
        "            \"/\": lambda x, y: \"Cannot divide by zero.\" if y == 0 else x / y\n",
        "        }\n",
        "\n",
        "    def add_operation(self, symbol, function):\n",
        "        \"\"\"Dynamically add new operations to the calculator\"\"\"\n",
        "        self.operations[symbol] = function\n",
        "\n",
        "    def calculate(self, num1, operation, num2):\n",
        "        \"\"\"Performs the calculation based on the chosen operation\"\"\"\n",
        "        if operation not in self.operations:\n",
        "            print(f\"Error: '{operation}' is not a valid operation.\")\n",
        "            raise ValueError(f\"Invalid operation: {operation}\")\n",
        "        elif operation == \"/\" and num2 == 0:\n",
        "            print(\"Error: cannot divide by zero.\")\n",
        "            return None\n",
        "        else:\n",
        "            func = self.operations[operation]\n",
        "            return func(num1, num2)\n",
        "\n",
        "# Create a calculator instance\n",
        "calc = Calculator()\n",
        "\n",
        "# Run the calculator in a loop\n",
        "while True:\n",
        "    print(\"\\n--- Simple Calculator ---\")\n",
        "\n",
        "    try:\n",
        "        num1 = float(input(\"Enter first number: \"))\n",
        "        operation = input(\"Enter operation (+, -, *, /): \")\n",
        "        num2 = float(input(\"Enter second number: \"))\n",
        "\n",
        "        result = calc.calculate(num1, operation, num2)\n",
        "        if result is not None:  # Check if result exists\n",
        "            print(f\"Result: {result}\")\n",
        "\n",
        "    except ValueError:\n",
        "        print(\"Invalid input! Please enter numbers only.\")\n",
        "    except ZeroDivisionError:\n",
        "        print(\"Error: Cannot divide by zero.\")\n",
        "\n",
        "    # Ask user if they want to continue\n",
        "    choice = input(\"Do you want to continue? (y/n): \").lower()\n",
        "    if choice != 'y':\n",
        "        print(\"Goodbye!\")\n",
        "        break\n"
      ]
    }
  ]
}