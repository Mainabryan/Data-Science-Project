{
  "nbformat": 4,
  "nbformat_minor": 0,
  "metadata": {
    "colab": {
      "provenance": [],
      "authorship_tag": "ABX9TyNocfWc27Eo0jy3vdzBvKlV",
      "include_colab_link": true
    },
    "kernelspec": {
      "name": "python3",
      "display_name": "Python 3"
    },
    "language_info": {
      "name": "python"
    }
  },
  "cells": [
    {
      "cell_type": "markdown",
      "metadata": {
        "id": "view-in-github",
        "colab_type": "text"
      },
      "source": [
        "<a href=\"https://colab.research.google.com/github/Mainabryan/Data-Science-Project/blob/main/BANK_ACCOUNT.ipynb\" target=\"_parent\"><img src=\"https://colab.research.google.com/assets/colab-badge.svg\" alt=\"Open In Colab\"/></a>"
      ]
    },
    {
      "cell_type": "code",
      "source": [
        "# Define the Account class and its attributes\n",
        "class Account:\n",
        "    def __init__(self, account_number, account_holder, account_balance=0):\n",
        "        self.account_number = account_number\n",
        "        self.account_holder = account_holder\n",
        "        self.account_balance = account_balance\n",
        "\n",
        "    # Method to deposit money\n",
        "    def deposit(self, amount):\n",
        "        if amount > 0:\n",
        "            self.account_balance += amount\n",
        "            print(f\"Deposited {amount} successfully.\")\n",
        "        else:\n",
        "            print(\"INVALID, THE DEPOSIT SHOULD BE GREATER THAN 0\")\n",
        "\n",
        "    # Method to withdraw money\n",
        "    def withdraw(self, amount):\n",
        "        if amount <= 0:\n",
        "            print(\"INVALID, THE AMOUNT SHOULD BE GREATER THAN 0\")\n",
        "        elif amount > self.account_balance:\n",
        "            print(\"INSUFFICIENT FUNDS IN YOUR ACCOUNT\")\n",
        "        else:\n",
        "            self.account_balance -= amount\n",
        "            print(f\"Withdrawal of {amount} successful.\")\n",
        "\n",
        "    # Method to check balance\n",
        "    def check_balance(self):\n",
        "        return self.account_balance\n",
        "\n",
        "\n",
        "# Create an instance of the Account class\n",
        "my_account = Account(\"BIG1XY34\", \"Bryan\")\n",
        "\n",
        "# Perform transactions\n",
        "my_account_deposit = 1000\n",
        "my_account.deposit(my_account_deposit)\n",
        "\n",
        "my_account_withdraw = 500\n",
        "my_account.withdraw(my_account_withdraw)\n",
        "\n",
        "# Optional: Check balance\n",
        "print(\"Current Balance:\", my_account.check_balance())\n"
      ],
      "metadata": {
        "colab": {
          "base_uri": "https://localhost:8080/"
        },
        "id": "821Tyl7AY5Eq",
        "outputId": "7911014d-a6c2-4309-864c-aa17c954fb5b"
      },
      "execution_count": 7,
      "outputs": [
        {
          "output_type": "stream",
          "name": "stdout",
          "text": [
            "Deposited 1000 successfully.\n",
            "Withdrawal of 500 successful.\n",
            "Current Balance: 500\n"
          ]
        }
      ]
    },
    {
      "cell_type": "code",
      "source": [],
      "metadata": {
        "id": "RBxyoudrZHR_"
      },
      "execution_count": null,
      "outputs": []
    }
  ]
}