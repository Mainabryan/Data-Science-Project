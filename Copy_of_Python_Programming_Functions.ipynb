{
  "nbformat": 4,
  "nbformat_minor": 0,
  "metadata": {
    "colab": {
      "provenance": [],
      "collapsed_sections": [
        "qbHky4L6u0GF",
        "4id48OhWr7L2",
        "51m8VyKYs_e3",
        "-yVfw__Bu4Sl",
        "ArRLPeQ0zTD7",
        "zpJ7dsVWyURZ",
        "qmwPuSsPyqff"
      ],
      "include_colab_link": true
    },
    "kernelspec": {
      "name": "python3",
      "display_name": "Python 3"
    }
  },
  "cells": [
    {
      "cell_type": "markdown",
      "metadata": {
        "id": "view-in-github",
        "colab_type": "text"
      },
      "source": [
        "<a href=\"https://colab.research.google.com/github/Mainabryan/Data-Science-Project/blob/main/Copy_of_Python_Programming_Functions.ipynb\" target=\"_parent\"><img src=\"https://colab.research.google.com/assets/colab-badge.svg\" alt=\"Open In Colab\"/></a>"
      ]
    },
    {
      "cell_type": "markdown",
      "metadata": {
        "id": "at-j61Sw1cxq"
      },
      "source": [
        "<font color=\"lime\">*To sta Data Science Course, we will need to save our own copy of it. We can do this by clicking File > Save a Copy in Drive. We will then be able to make edits to our own copy of this notebook.*</font>"
      ]
    },
    {
      "cell_type": "markdown",
      "metadata": {
        "id": "ME3zPRU_ulWC"
      },
      "source": [
        "# Python Programming: Functions"
      ]
    },
    {
      "cell_type": "markdown",
      "metadata": {
        "id": "qbHky4L6u0GF"
      },
      "source": [
        "## 1.0 Overview"
      ]
    },
    {
      "cell_type": "code",
      "metadata": {
        "id": "xf2uz7Zgu26f",
        "colab": {
          "base_uri": "https://localhost:8080/"
        },
        "outputId": "311967e8-66cc-4236-b275-82096c368727"
      },
      "source": [
        "# Example 1\n",
        "# Below is an example of a function - my_function.\n",
        "#\n",
        "\n",
        "# This function is called my_function and contains only one line of code\n",
        "# tasked with printing.\n",
        "\n",
        "# We define our function as shown;\n",
        "# Def is the keyword used to define the function, my_function is the name of our function\n",
        "# and print() is the operation that the function undertakes;\n",
        "def my_function():\n",
        "    print(\"Hello, This is from my function!\")\n",
        "\n",
        "# Upon defining the function, we can then call it as shown below. Calling a function means executing a function and printing its value.\n",
        "# Please take note of the parenthesis at the end, if you omit the parenthesis then the function will not display the output.\n",
        "my_function()"
      ],
      "execution_count": null,
      "outputs": [
        {
          "output_type": "stream",
          "name": "stdout",
          "text": [
            "Hello, This is from my function!\n"
          ]
        }
      ]
    },
    {
      "cell_type": "code",
      "metadata": {
        "id": "nhLXZF7HuiBJ",
        "colab": {
          "base_uri": "https://localhost:8080/"
        },
        "outputId": "8a21d3cf-27ec-4617-95b5-e7dcf8ddbf4f"
      },
      "source": [
        "# Example 2\n",
        "# Let's briefly look at built-in functions. Built-in functions are function that are already predetermined in python.\n",
        "# This means that these functions are always available for use without us having to define them.\n",
        "# Below is is an example of a built in function.\n",
        "\n",
        "# what we've done in the line below is to call the print function and passed a string Hello!.\n",
        "# We will learn more about passing to functions later in this session.\n",
        "print(\"Hello!\")\n",
        "\n",
        "# print() is the built - in function.\n",
        "# Examples of other built - in python functions include range(), str(), max(), min() etc."
      ],
      "execution_count": null,
      "outputs": [
        {
          "output_type": "stream",
          "name": "stdout",
          "text": [
            "Hello!\n"
          ]
        }
      ]
    },
    {
      "cell_type": "code",
      "metadata": {
        "id": "bOvvo7FLXmks"
      },
      "source": [
        "# Example 3\n",
        "# We can also use a function to perform a custom complex mathematical operation\n",
        "# just as shown in the newtons_method function.\n",
        "# Bear with us for now, you do not necessarily need to understand what the newtons method\n",
        "# which is the complex mathematical operation entails.\n",
        "# What you need to know for know isthat functions are used to perform a specific\n",
        "# set of operations then return an output as shown below.\n",
        "#\n",
        "\n",
        "\n",
        "def newtons_method(num, estimate):\n",
        "    # Computing a new_estimate\n",
        "    new_estimate = (estimate + num / estimate) / 2\n",
        "    print(new_estimate)\n",
        "    # Base Case: Comparing our estimate with built-in functions value\n",
        "    if new_estimate == math.sqrt(num):\n",
        "        return True\n",
        "    else:\n",
        "        # let's return our output.\n",
        "        return newtons_method(num, new_estimate)\n",
        "\n",
        "# As we have noticed, we defined our fuction - newtons_method, then passed num and estimate\n",
        "# to the function. These values that we have passed are referred to as parameters.\n",
        "# Values can be passed to functions, then the functions perform a set of operations\n",
        "# and provide an output based on the given input.\n",
        "# More about parameters will be covered later in this session."
      ],
      "execution_count": null,
      "outputs": []
    },
    {
      "cell_type": "markdown",
      "metadata": {
        "id": "4id48OhWr7L2"
      },
      "source": [
        "## 1.1 Using Built-in Functions"
      ]
    },
    {
      "cell_type": "code",
      "metadata": {
        "id": "1Xg3vxh8sASM",
        "colab": {
          "base_uri": "https://localhost:8080/"
        },
        "outputId": "6dc59b7d-5d3c-4e26-f487-6b9d42064c1d"
      },
      "source": [
        "# Example 1\n",
        "# Let's now see how to work with a few built-in python functions\n",
        "# We will start learning about the max() built-in function\n",
        "#\n",
        "\n",
        "# The max() function will return the item with the highest value as shown\n",
        "# in the given arrays\n",
        "x = max([15, 20, 43, 33, 43])\n",
        "print(x)\n",
        "\n",
        "# Using the max() function, we can return the items with the highest value alphabetically\n",
        "y = max([\"Alice\", \"James\", \"Valerie\"])\n",
        "print(y)"
      ],
      "execution_count": null,
      "outputs": [
        {
          "output_type": "stream",
          "name": "stdout",
          "text": [
            "43\n",
            "Valerie\n"
          ]
        }
      ]
    },
    {
      "cell_type": "code",
      "metadata": {
        "id": "MwsgXFvQsAMZ",
        "colab": {
          "base_uri": "https://localhost:8080/"
        },
        "outputId": "039c2e3a-ec10-491b-d30a-29a3050fb911"
      },
      "source": [
        "# Example 2\n",
        "# Another built-in function that we can use is the type() function.\n",
        "# Let's use it to return the data type of the specified object.\n",
        "#\n",
        "w = 12.2\n",
        "x = 100\n",
        "y = ['Samsung', 'Sony', 'Panasonic']\n",
        "z = \"Upendo\"\n",
        "\n",
        "print(type(w))\n",
        "\n",
        "# Find out the type of x\n",
        "print(type(x))\n",
        "\n",
        "# Find out the type of y\n",
        "print(type(y))\n",
        "\n",
        "# Find out the type of z\n",
        "print(type(z))"
      ],
      "execution_count": null,
      "outputs": [
        {
          "output_type": "stream",
          "name": "stdout",
          "text": [
            "<class 'float'>\n",
            "<class 'int'>\n",
            "<class 'list'>\n",
            "<class 'str'>\n"
          ]
        }
      ]
    },
    {
      "cell_type": "code",
      "metadata": {
        "id": "AqJAthgIr__w",
        "colab": {
          "base_uri": "https://localhost:8080/"
        },
        "outputId": "c8aaed62-3732-4e5c-d03d-c8c030c53ec3"
      },
      "source": [
        "# Example 3\n",
        "# This is how we can also use the built in sum() function\n",
        "#\n",
        "\n",
        "a = [232, 323, 434, 523, 323, 232]\n",
        "print(sum(a))\n",
        "\n",
        "# As we have already mentioned, examples of other built - in python functions\n",
        "# include range(), str(), max(), min() etc."
      ],
      "execution_count": null,
      "outputs": [
        {
          "output_type": "stream",
          "name": "stdout",
          "text": [
            "2067\n"
          ]
        }
      ]
    },
    {
      "cell_type": "markdown",
      "metadata": {
        "id": "51m8VyKYs_e3"
      },
      "source": [
        "### <font color=\"green\">1.1 Challenges</font>"
      ]
    },
    {
      "cell_type": "code",
      "metadata": {
        "id": "VP7RNa_5tYiL",
        "colab": {
          "base_uri": "https://localhost:8080/"
        },
        "outputId": "15798ab5-a5e0-440e-db33-31980e899203"
      },
      "source": [
        "# Challenge 1\n",
        "# Now that we have learnt to use some built-in functions,\n",
        "# Let's use the min() function to return the item with the lowest value below\n",
        "#\n",
        "a = min([232, 323, 434, 523, 323, 232] )\n",
        "print(a)"
      ],
      "execution_count": null,
      "outputs": [
        {
          "output_type": "stream",
          "name": "stdout",
          "text": [
            "232\n"
          ]
        }
      ]
    },
    {
      "cell_type": "code",
      "metadata": {
        "id": "7OFu5O7JtZJy",
        "colab": {
          "base_uri": "https://localhost:8080/"
        },
        "outputId": "5e77746a-ac32-4a66-9860-c8e055bcaae7"
      },
      "source": [
        "# Challenge 2\n",
        "# Let's also round off the number 23.43 using the round() function\n",
        "#\n",
        "round(23.43)"
      ],
      "execution_count": null,
      "outputs": [
        {
          "output_type": "execute_result",
          "data": {
            "text/plain": [
              "23"
            ]
          },
          "metadata": {},
          "execution_count": 12
        }
      ]
    },
    {
      "cell_type": "code",
      "metadata": {
        "id": "Ogr-yc4BtZIf",
        "colab": {
          "base_uri": "https://localhost:8080/"
        },
        "outputId": "29a57e2e-7f69-4858-9afb-39abb9331663"
      },
      "source": [
        "# Challenge 3\n",
        "# Lastly, let's give an example where the sorted() function can be used;\n",
        "# Hint: Feel free to perform some external research\n",
        "#\n",
        "a = [15, 20, 43, 33, 43]\n",
        "b= [232, 323, 434, 523, 323, 232]\n",
        "print(sorted(a), sorted(b))"
      ],
      "execution_count": null,
      "outputs": [
        {
          "output_type": "stream",
          "name": "stdout",
          "text": [
            "[15, 20, 33, 43, 43] [232, 232, 323, 323, 434, 523]\n"
          ]
        }
      ]
    },
    {
      "cell_type": "markdown",
      "metadata": {
        "id": "-yVfw__Bu4Sl"
      },
      "source": [
        "## 1.2 Creating a Function"
      ]
    },
    {
      "cell_type": "markdown",
      "metadata": {
        "id": "w4tM_RB3yPT4"
      },
      "source": [
        "We will now create functions.\n",
        "\n",
        "Below are steps that we can use to create a function:\n",
        "\n",
        "*  **Step 1**: We first declare the function with the keyword `def` followed by the function name and brackets.\n",
        "*   **Step 2**: Add the program statements to be executed.\n",
        "*   **Step 3** End the function with/without return statement.\n",
        "*  **Step 4**: We will learn more about this step later in this session. If our function takes parameters, we write the arguments inside the opening and closing parentheses of the function, and end the declaration with a colon.\n",
        "\n",
        "\n",
        "\n"
      ]
    },
    {
      "cell_type": "code",
      "metadata": {
        "id": "SkEtwBmMzb8k"
      },
      "source": [
        "# Example 1\n",
        "# To start, we will create a function to find out which\n",
        "# of two numbers is greater than the other\n",
        "#\n",
        "\n",
        "# we define it by giving it the name max_of_two\n",
        "def max_of_two():\n",
        "\n",
        "  # we then define our variables that will contain the numbers to be manipulated\n",
        "  first_number  = 10\n",
        "  second_number = 5\n",
        "\n",
        "  # then we perform our operations i.e. in this case,\n",
        "  # if first_number is greater than second_number etc.\n",
        "  if first_number > second_number:\n",
        "\n",
        "      # the return keyword allows us to provide back the result/output of our function\n",
        "    return first_number\n",
        "  else:\n",
        "    # the return key word allows us to provide back the result/output of our function\n",
        "    return second_number\n",
        "\n",
        "# Lastly, we do the most important step; which is to call the function that\n",
        "# we have just created above. Calling allows us to use the function.\n",
        "# We have also been calling our built-in functions from the previous section.\n",
        "#\n",
        "max_of_two()"
      ],
      "execution_count": null,
      "outputs": []
    },
    {
      "cell_type": "code",
      "metadata": {
        "id": "3P8OAAcGyOP7",
        "colab": {
          "base_uri": "https://localhost:8080/"
        },
        "outputId": "9adfd4fd-a487-4200-935a-d9a097a3b66c"
      },
      "source": [
        "# Example 2\n",
        "# Let's now create another function to find out the square of a certain number\n",
        "#\n",
        "\n",
        "# defining our function name\n",
        "def square_of_number():\n",
        "\n",
        "  # assigning 6 to our variable nuber\n",
        "  number = 6\n",
        "\n",
        "\n",
        "  square_square_of_number = number ** 2\n",
        "\n",
        "  # the return keyword allows us to provide back the result/output of our function\n",
        "  return square_square_of_number\n",
        "\n",
        "# now calling our function\n",
        "square_of_number()"
      ],
      "execution_count": null,
      "outputs": [
        {
          "output_type": "execute_result",
          "data": {
            "text/plain": [
              "36"
            ]
          },
          "metadata": {},
          "execution_count": 16
        }
      ]
    },
    {
      "cell_type": "code",
      "metadata": {
        "id": "QZFwx1lgyOhh",
        "colab": {
          "base_uri": "https://localhost:8080/"
        },
        "outputId": "1384dfff-f004-461c-f91e-070c1797413f"
      },
      "source": [
        "# Example 3\n",
        "# Lastly, we create another function to sum all the numbers in a list a = [6, 5, 4, 3, 2, 1]\n",
        "#\n",
        "\n",
        "def sum():\n",
        "  a = [6, 5, 4, 3, 2, 1]\n",
        "  total = 0\n",
        "\n",
        "    # performing our operation by using a for loop to iterate through our list\n",
        "  for x in a:\n",
        "\n",
        "    # for each iteration we perform total = total + 1;  which can be simply be written as shown below\n",
        "    total += x\n",
        "\n",
        "  # Then lastly return our output which is to print out the value of the total variable\n",
        "  return print(total)\n",
        "\n",
        "# Lastly we call the function in order to use it\n",
        "sum()"
      ],
      "execution_count": null,
      "outputs": [
        {
          "output_type": "execute_result",
          "data": {
            "text/plain": [
              "21"
            ]
          },
          "metadata": {},
          "execution_count": 18
        }
      ]
    },
    {
      "cell_type": "markdown",
      "metadata": {
        "id": "ArRLPeQ0zTD7"
      },
      "source": [
        "### <font color=\"green\">1.2 Challenges</font>"
      ]
    },
    {
      "cell_type": "code",
      "metadata": {
        "id": "NQ87DKM9zaMG"
      },
      "source": [
        "# Challenge 1\n",
        "# Now that we have seen how to create functions,\n",
        "# let's create one that returns the maximum of two numbers;\n",
        "#\n"
      ],
      "execution_count": null,
      "outputs": []
    },
    {
      "cell_type": "code",
      "metadata": {
        "id": "zFnXOKg5zaBc"
      },
      "source": [
        "# Challenge 2\n",
        "# Let's write another function that tell us whether if a variable is between 3 and 10\n",
        "#\n"
      ],
      "execution_count": null,
      "outputs": []
    },
    {
      "cell_type": "code",
      "metadata": {
        "id": "6SvU7V_LzZuK"
      },
      "source": [
        "# Challenge 3\n",
        "# Lastly, an online retailer provides express shipping for many of its items at a rate of Ksh 200 for the first item, and Ksh. 25 for each subsequent item.\n",
        "# Write a function that takes the number of items in the order from the user.\n",
        "# Return the shipping charge for the order as the function’s result.\n",
        "#\n"
      ],
      "execution_count": null,
      "outputs": []
    },
    {
      "cell_type": "markdown",
      "metadata": {
        "id": "zpJ7dsVWyURZ"
      },
      "source": [
        "## 1.3 Passing Parameters and Returning Values"
      ]
    },
    {
      "cell_type": "code",
      "metadata": {
        "id": "oGbSQfdDyy91"
      },
      "source": [
        "# Example 1\n",
        "# Parameters are variables that give to a function. The function later use the values\n",
        "# of those parameters which we call arguments to perform operations then return an output.\n",
        "# The ability for functions to take in parameter is important because it allows\n",
        "# for code re-use in different contexts.\n",
        "# To see this, let's create a function that finds the average of two numbers a and b.\n",
        "# These numbers a and b are referred to as parameters and their values are referred to arguements.\n",
        "# The parameters will be provided to the function and the function will\n",
        "# perform the average and return the result of these operations as show.\n",
        "#\n",
        "\n",
        "# Defining our function\n",
        "def avg(a,b):\n",
        "\n",
        "  # Performing the operation\n",
        "  two_numbers_avg = (a + b)/2\n",
        "\n",
        "  # Returning the result of our function\n",
        "  return print(two_numbers_avg)\n",
        "\n",
        "# Calling our function with arguments\n",
        "avg(2,4)"
      ],
      "execution_count": null,
      "outputs": []
    },
    {
      "cell_type": "code",
      "metadata": {
        "id": "eAMUefKlyzA1"
      },
      "source": [
        "# Example 2\n",
        "# Let's create another function that takes in the name and age of a person\n",
        "# then prints out their name\n",
        "#\n",
        "\n",
        "def lastFirst(firstName, lastName):\n",
        "    separator = ', '\n",
        "    result = lastName + separator + firstName\n",
        "    return print(result)\n",
        "\n",
        "lastFirst('Tomanzi', 'Chitanda')"
      ],
      "execution_count": null,
      "outputs": []
    },
    {
      "cell_type": "code",
      "metadata": {
        "id": "YxUu-a7AzzcP"
      },
      "source": [
        "# Example 3\n",
        "# Let's create another function that calculates the area of a cirlce when\n",
        "# the value radius is passed to the function\n",
        "#\n",
        "\n",
        "def circleArea(radius):\n",
        "    area = 3.14 * radius * radius\n",
        "    return print(area)\n",
        "\n",
        "# Calling our function and passing an argumement\n",
        "circleArea(4)"
      ],
      "execution_count": null,
      "outputs": []
    },
    {
      "cell_type": "markdown",
      "metadata": {
        "id": "qmwPuSsPyqff"
      },
      "source": [
        "### <font color=\"green\">1.3 Challenges</font>"
      ]
    },
    {
      "cell_type": "code",
      "metadata": {
        "id": "8pa4b5Jcz1kf"
      },
      "source": [
        "# Challenge 1\n",
        "# Write a function that determines how many days there are in a particular month.\n",
        "# Your function will have two parameters: The month as an integer between 1 and 12,\n",
        "# and the year as a four digit integer.\n",
        "# Ensure that your function reports the correct number of days in February for leap years.\n",
        "#\n"
      ],
      "execution_count": null,
      "outputs": []
    },
    {
      "cell_type": "code",
      "metadata": {
        "id": "uyz_9HC9y4XT"
      },
      "source": [
        "# Challenge 2\n",
        "# In a particular company, taxi fares consist of a base fare of Ksh.200,\n",
        "# plus Ksh.25 for every 140 meters traveled.\n",
        "# Write a function that takes the distance traveled (in kilometers)\n",
        "# as its only parameter and returns the total fare as its only result.\n",
        "#\n"
      ],
      "execution_count": null,
      "outputs": []
    },
    {
      "cell_type": "code",
      "metadata": {
        "id": "a93DEIfI1Xkc"
      },
      "source": [
        "# Challenge 3\n",
        "# A particular cell phone plan includes 20 minutes of air time and 20 text messages\n",
        "# for Ksh. 50.00 a month. Each additional minute of air time costs Ksh. 3.00,\n",
        "# while additional text messages cost Ksh. 2.00 each.\n",
        "# The entire bill (including the 999 charge) is subject to 16 percent VAT tax.\n",
        "# Write a program that reads the number of minutes and text messages used in a month from the user.\n",
        "# Display the base charge, additional minutes charge (if any),\n",
        "# additional text message charge (if any), tax and total bill amount.\n",
        "# Only display the additional minute and text message charges if the user incurred costs in these categories.\n",
        "# Ensure that all of the charges are displayed using 2 decimal places.\n",
        "#\n",
        "base_charge = 50.00\n",
        "additional_minute_charge = 3.00\n",
        "additional_text_message_charge = 2.00\n",
        "tax = 0.16\n",
        "text_messages = 20\n",
        "minutes_of_airtime =20\n",
        "#charged to the user that month\n",
        "\n"
      ],
      "execution_count": null,
      "outputs": []
    },
    {
      "cell_type": "code",
      "source": [
        "# Constants\n",
        "BASE_CHARGE = 50.00\n",
        "FREE_MINUTES = 20\n",
        "FREE_TEXTS = 20\n",
        "EXTRA_MINUTE_COST = 3.00\n",
        "EXTRA_TEXT_COST = 2.00\n",
        "VAT_RATE = 0.16\n",
        "\n",
        "# Get user input\n",
        "minutes_used = int(input(\"Enter the number of minutes used: \"))\n",
        "texts_used = int(input(\"Enter the number of text messages used: \"))\n",
        "\n",
        "# Calculate additional charges\n",
        "extra_minutes = max(0, minutes_used - FREE_MINUTES)\n",
        "extra_texts = max(0, texts_used - FREE_TEXTS)\n",
        "extra_minute_charge = extra_minutes * EXTRA_MINUTE_COST\n",
        "extra_text_charge = extra_texts * EXTRA_TEXT_COST\n",
        "\n",
        "# Calculate total before tax\n",
        "total_before_tax = BASE_CHARGE + extra_minute_charge + extra_text_charge\n",
        "\n",
        "# Calculate VAT tax\n",
        "tax = total_before_tax * VAT_RATE\n",
        "\n",
        "# Calculate total bill\n",
        "total_bill = total_before_tax + tax\n",
        "\n",
        "# Display results\n",
        "print(f\"\\nBase Charge: Ksh. {BASE_CHARGE:.2f}\")\n",
        "if extra_minutes > 0:\n",
        "    print(f\"Additional Minutes Charge: Ksh. {extra_minute_charge:.2f}\")\n",
        "if extra_texts > 0:\n",
        "    print(f\"Additional Text Messages Charge: Ksh. {extra_text_charge:.2f}\")\n",
        "print(f\"VAT Tax (16%): Ksh. {tax:.2f}\")\n",
        "print(f\"Total Bill Amount: Ksh. {total_bill:.2f}\")"
      ],
      "metadata": {
        "id": "zKinBQFo-1r4"
      },
      "execution_count": null,
      "outputs": []
    },
    {
      "cell_type": "code",
      "source": [
        "def greet():\n",
        "    print(\"Hello, welcome to Python!\")  # Function body\n",
        "\n",
        "greet()  # Calling the function"
      ],
      "metadata": {
        "id": "Xk2vzyWJFC-t",
        "outputId": "08a1dba0-102c-44c5-81fd-da18ec917807",
        "colab": {
          "base_uri": "https://localhost:8080/"
        }
      },
      "execution_count": 1,
      "outputs": [
        {
          "output_type": "stream",
          "name": "stdout",
          "text": [
            "Hello, welcome to Python!\n"
          ]
        }
      ]
    },
    {
      "cell_type": "code",
      "source": [
        "def morning():\n",
        "    print(\"Good morning!\")\n",
        "\n",
        "morning()\n",
        "\n",
        "\n"
      ],
      "metadata": {
        "id": "j93ZpuX9FD1e",
        "outputId": "6572e61e-e61e-4d09-8fc2-3d7fd6910482",
        "colab": {
          "base_uri": "https://localhost:8080/"
        }
      },
      "execution_count": 2,
      "outputs": [
        {
          "output_type": "stream",
          "name": "stdout",
          "text": [
            "Good morning!\n"
          ]
        }
      ]
    },
    {
      "cell_type": "code",
      "source": [
        "morning()\n",
        "\n",
        "def morning():\n",
        "    print(\"Good morning! Time to code!\")"
      ],
      "metadata": {
        "id": "mhLVejU6eyUy",
        "outputId": "a56b139e-6907-429a-ecdc-212b903c1651",
        "colab": {
          "base_uri": "https://localhost:8080/"
        }
      },
      "execution_count": 5,
      "outputs": [
        {
          "output_type": "stream",
          "name": "stdout",
          "text": [
            "Good morning! Time to code!\n"
          ]
        }
      ]
    },
    {
      "cell_type": "code",
      "source": [
        "def add(a, b):\n",
        "    print(a + b)\n",
        "\n",
        "result = add(5, 3)\n",
        "print(result)"
      ],
      "metadata": {
        "id": "pFZ4M_Mvhrjf",
        "outputId": "cccdb53b-ae86-4727-ba6d-172e754b484d",
        "colab": {
          "base_uri": "https://localhost:8080/"
        }
      },
      "execution_count": 6,
      "outputs": [
        {
          "output_type": "stream",
          "name": "stdout",
          "text": [
            "8\n",
            "None\n"
          ]
        }
      ]
    },
    {
      "cell_type": "code",
      "source": [
        "def add(a, b):\n",
        "    return a + b\n",
        "\n",
        "result = add(5, 3)\n",
        "print(result)"
      ],
      "metadata": {
        "id": "MJ0_Ygemh3tQ",
        "outputId": "c58ce339-7f4c-43cf-c5ac-3ec3170c00e3",
        "colab": {
          "base_uri": "https://localhost:8080/"
        }
      },
      "execution_count": 7,
      "outputs": [
        {
          "output_type": "stream",
          "name": "stdout",
          "text": [
            "8\n"
          ]
        }
      ]
    },
    {
      "cell_type": "code",
      "source": [
        "def add(a,b):\n",
        "  print(a)\n"
      ],
      "metadata": {
        "id": "xPfKAViXjGGm"
      },
      "execution_count": null,
      "outputs": []
    },
    {
      "cell_type": "code",
      "source": [
        "def greet(name):\n",
        "    print(\"Hello, \" + name)\n",
        "\n",
        "def greet_return(name):\n",
        "    return \"Hello, \" + name\n",
        "\n",
        "greeting1 = greet(\"Bryan\")\n",
        "greeting2 = greet_return(\"Bryan\")\n",
        "\n",
        "print(greeting1)\n",
        "print(greeting2)"
      ],
      "metadata": {
        "id": "n2rLS7D8kBaz",
        "outputId": "6baeb660-1580-4a96-b795-e52e9742cdcf",
        "colab": {
          "base_uri": "https://localhost:8080/"
        }
      },
      "execution_count": 8,
      "outputs": [
        {
          "output_type": "stream",
          "name": "stdout",
          "text": [
            "Hello, Bryan\n",
            "None\n",
            "Hello, Bryan\n"
          ]
        }
      ]
    },
    {
      "cell_type": "code",
      "source": [
        "def greet(name):\n",
        "    return \"Hello, \" + name\n",
        "\n",
        "def greet_return(name):\n",
        "    return \"Hello, \" + name\n",
        "\n",
        "greeting1 = greet(\"Bryan\")\n",
        "greeting2 = greet_return(\"Bryan\")\n",
        "\n",
        "print(greeting1)\n",
        "print(greeting2)"
      ],
      "metadata": {
        "id": "UB5s2S77kP7h",
        "outputId": "19aafc26-ff3a-40cf-819c-0f7c4bd5b11a",
        "colab": {
          "base_uri": "https://localhost:8080/"
        }
      },
      "execution_count": 9,
      "outputs": [
        {
          "output_type": "stream",
          "name": "stdout",
          "text": [
            "Hello, Bryan\n",
            "Hello, Bryan\n"
          ]
        }
      ]
    },
    {
      "cell_type": "code",
      "source": [
        "def example():\n",
        "    print(\"Inside function\")\n",
        "    return \"Returned value\"\n",
        "\n",
        "result = example()\n",
        "print(result)"
      ],
      "metadata": {
        "id": "hak9FcXJl58e",
        "outputId": "85c7f42b-a0e1-4ea1-d1e2-9ac68552db40",
        "colab": {
          "base_uri": "https://localhost:8080/"
        }
      },
      "execution_count": 10,
      "outputs": [
        {
          "output_type": "stream",
          "name": "stdout",
          "text": [
            "Inside function\n",
            "Returned value\n"
          ]
        }
      ]
    },
    {
      "cell_type": "code",
      "source": [
        "def example():\n",
        "    return \"Returned value\"\n",
        "    print(\"Inside function\")\n",
        "\n",
        "print(example())"
      ],
      "metadata": {
        "id": "eFx1TQiUoBhi",
        "outputId": "33c36821-01ae-43a2-f649-d68957aa9433",
        "colab": {
          "base_uri": "https://localhost:8080/"
        }
      },
      "execution_count": 11,
      "outputs": [
        {
          "output_type": "stream",
          "name": "stdout",
          "text": [
            "Returned value\n"
          ]
        }
      ]
    },
    {
      "cell_type": "code",
      "source": [
        "def example():\n",
        "    print(\"Before return\")\n",
        "    return \"Returned value\"\n",
        "    print(\"After return\")\n",
        "\n",
        "example()"
      ],
      "metadata": {
        "id": "PRQsgjzLpN47",
        "outputId": "1853e3c1-2f3c-4767-b9d6-5ad065e80429",
        "colab": {
          "base_uri": "https://localhost:8080/",
          "height": 53
        }
      },
      "execution_count": 12,
      "outputs": [
        {
          "output_type": "stream",
          "name": "stdout",
          "text": [
            "Before return\n"
          ]
        },
        {
          "output_type": "execute_result",
          "data": {
            "text/plain": [
              "'Returned value'"
            ],
            "application/vnd.google.colaboratory.intrinsic+json": {
              "type": "string"
            }
          },
          "metadata": {},
          "execution_count": 12
        }
      ]
    },
    {
      "cell_type": "code",
      "source": [
        "You said:\n",
        "numbers = ('a','b','c')\n",
        "if 'a' in numbers:\n",
        "  print ('correct')\n",
        "elif 'b' in numbers:\n",
        "  print ('incorrect')\n",
        "numbers = ('a','b','c')\n",
        "if 'a' in numbers:\n",
        "  print ('correct')\n",
        "elif 'b' in numbers:\n",
        "  print ('incorrect')\n",
        "else:\n",
        "  print('both multiples of 3 and 5')\n",
        "# elsif 'b' is multiple 5  <-- invalid syntax\n",
        "# print ('incorrect')      <-- not within a code block\n",
        "# else                      <-- invalid syntax, unexpected else\n",
        "# print('both multiples of 3 and 5')\n",
        "  print('both multiples of 3 and 5')     i want you us to use the code with the knowledge of 20 numbers with one is muliple of 3 type fizz whileif the other  is muliple of 5 type buzz and the other both  muliple of 3 and 5 type fizz buzz or you can use other codes if mine is not fine\n",
        "ChatGPT said:\n",
        "\n",
        "Here's a Python script that prints \"Fizz\" for numbers that are multiples of 3, \"Buzz\" for multiples of 5, and \"FizzBuzz\" for multiples of both 3 and 5. I'll generate 20 numbers for this logic.\n",
        "\n",
        "for num in range(1, 21):  # Looping through numbers from 1 to 20\n",
        "    if num % 3 == 0 and num % 5 == 0:\n",
        "        print(\"FizzBuzz\")\n",
        "    elif num % 3 == 0:\n",
        "        print(\"Fizz\")\n",
        "    elif num % 5 == 0:\n",
        "        print(\"Buzz\")\n",
        "    else:\n",
        "        print(num)  # Print the number if it is not a multiple of 3 or 5\n",
        "\n",
        "Explanation:\n",
        "\n",
        "    The loop runs from 1 to 20.\n",
        "    The if condition checks for numbers that are multiples of both 3 and 5 and prints \"FizzBuzz\".\n",
        "    The elif checks for multiples of only 3 and prints \"Fizz\".\n",
        "    The next elif checks for multiples of only 5 and prints \"Buzz\".\n",
        "    If none of the above conditions match, it prints the number itself.\n",
        "\n",
        "Would you like any modifications or explanations? 🚀\n",
        "You said:\n",
        "can you eplain to me the function of % in simpler terms\n",
        "ChatGPT said:\n",
        "\n",
        "Yes! The % symbol in Python is called the modulus operator. It helps you find the remainder when one number is divided by another.\n",
        "Simple Example:\n",
        "\n",
        "print(10 % 3)  # Output: 1\n",
        "\n",
        "Explanation:\n",
        "\n",
        "    10 divided by 3 is 3 remainder 1, so 10 % 3 gives 1.\n",
        "\n",
        "How It Works in \"FizzBuzz\":\n",
        "\n",
        "In your FizzBuzz program:\n",
        "\n",
        "    num % 3 == 0 → This checks if a number divides evenly by 3 (no remainder).\n",
        "    num % 5 == 0 → This checks if a number divides evenly by 5.\n",
        "    num % 3 == 0 and num % 5 == 0 → This means the number is divisible by both 3 and 5.\n",
        "\n",
        "Another Example:\n",
        "\n",
        "print(15 % 3)  # Output: 0 (15 is fully divisible by 3)\n",
        "print(20 % 5)  # Output: 0 (20 is fully divisible by 5)\n",
        "print(7 % 2)   # Output: 1 (7 divided by 2 gives remainder 1)\n",
        "\n",
        "Would you like me to break it down even further? 😊\n",
        "You said:\n",
        "can you explain for  i len()\n",
        "ChatGPT said:\n",
        "\n",
        "Yes! Let’s break it down step by step in a simple way.\n",
        "1️⃣ i in a loop\n",
        "\n",
        "i is often used as a loop variable in a for loop. It helps go through items one by one.\n",
        "Example:\n",
        "\n",
        "for i in range(5):\n",
        "    print(i)\n",
        "\n",
        "🔹 How this works:\n",
        "\n",
        "    range(5) gives numbers 0, 1, 2, 3, 4 (it starts from 0 and stops at 4).\n",
        "    i takes each value one by one and prints it.\n",
        "\n",
        "📌 Output:\n",
        "\n",
        "0\n",
        "1\n",
        "2\n",
        "3\n",
        "4\n",
        "\n",
        "2️⃣ len() function\n",
        "\n",
        "len() is used to count the number of items in a list, string, or tuple.\n",
        "Example:\n",
        "\n",
        "name = \"Bryan\"\n",
        "print(len(name))  # Output: 5\n",
        "\n",
        "🔹 Why?\n",
        "\n",
        "    \"Bryan\" has 5 letters, so len(name) returns 5.\n",
        "\n",
        "Another Example:\n",
        "\n",
        "numbers = [10, 20, 30, 40]\n",
        "print(len(numbers))  # Output: 4\n",
        "\n",
        "    The list [10, 20, 30, 40] has 4 elements, so len(numbers) returns 4.\n",
        "\n",
        "3️⃣ Using i and len() Together\n",
        "\n",
        "We can use i in a loop to go through each index of a list using len().\n",
        "Example:\n",
        "\n",
        "fruits = [\"Apple\", \"Banana\", \"Cherry\"]\n",
        "\n",
        "for i in range(len(fruits)):  # Loop runs from 0 to 2 (3 items)\n",
        "    print(f\"Index {i}: {fruits[i]}\")\n",
        "\n",
        "📌 Output:\n",
        "\n",
        "Index 0: Apple\n",
        "Index 1: Banana\n",
        "Index 2: Cherry\n",
        "\n",
        "🔹 Explanation:\n",
        "\n",
        "    len(fruits) is 3 because there are 3 items.\n",
        "    range(3) gives numbers 0, 1, and 2.\n",
        "    fruits[i] gets each item using its index.\n",
        "\n",
        "Would you like more examples or another explanation? 😊\n",
        "You said:\n",
        "okay is false or true in a if statement a variable?\n",
        "ChatGPT said:\n",
        "\n",
        "Great question! True and False are not variables in an if statement. They are Boolean values, which are a special type of data that represents truth or falsehood in Python.\n",
        "Understanding Boolean Values (True and False)\n",
        "\n",
        "In Python:\n",
        "\n",
        "    True means something is correct or exists.\n",
        "    False means something is incorrect or does not exist.\n",
        "\n",
        "Example:\n",
        "\n",
        "if True:\n",
        "    print(\"This will always run!\")\n",
        "\n",
        "📌 Output:\n",
        "\n",
        "This will always run!\n",
        "\n",
        "🔹 Why?\n",
        "\n",
        "    Since if True: is always true, the code inside the if block always runs.\n",
        "\n",
        "Are True and False Variables?\n",
        "\n",
        "No! Variables store values, but True and False are already defined values in Python.\n",
        "Example of a Variable Holding a Boolean:\n",
        "\n",
        "is_raining = False  # Variable storing False\n",
        "\n",
        "if is_raining:\n",
        "    print(\"Take an umbrella!\")\n",
        "else:\n",
        "    print(\"Enjoy the sun!\")\n",
        "\n",
        "📌 Output:\n",
        "\n",
        "Enjoy the sun!\n",
        "\n",
        "🔹 Why?\n",
        "\n",
        "    The variable is_raining is set to False.\n",
        "    Since if is_raining: is False, the else block runs.\n",
        "\n",
        "Checking a Condition in an if Statement\n",
        "\n",
        "True or False comes from checking a condition.\n",
        "Example:\n",
        "\n",
        "age = 18\n",
        "\n",
        "if age >= 18:\n",
        "    print(\"You can vote!\")\n",
        "else:\n",
        "    print(\"You are too young to vote.\")\n",
        "\n",
        "📌 Output:\n",
        "\n",
        "You can vote!\n",
        "\n",
        "🔹 Why?\n",
        "\n",
        "    age >= 18 checks if 18 is greater than or equal to 18.\n",
        "    Since this is True, it prints \"You can vote!\".\n",
        "\n",
        "Summary\n",
        "\n",
        "    True and False are Boolean values, not variables.\n",
        "    Variables can store True or False, but they are not the same thing.\n",
        "    An if statement checks a condition and runs code if it is True.\n",
        "\n",
        "Would you like me to explain it in another way? 😊\n",
        "You said:\n",
        "what about break?\n",
        "ChatGPT said:\n",
        "\n",
        "Great question! break is a special keyword in Python used to stop a loop immediately when a certain condition is met.\n",
        "🔹 How break Works\n",
        "\n",
        "    It exits the loop completely, even if there are more iterations left.\n",
        "    Used mainly in for and while loops.\n",
        "\n",
        "✅ Example: Using break in a for Loop\n",
        "\n",
        "for num in range(1, 10):\n",
        "    if num == 5:\n",
        "        break  # Stop the loop when num is 5\n",
        "    print(num)\n",
        "\n",
        "📌 Output:\n",
        "\n",
        "1\n",
        "2\n",
        "3\n",
        "4\n",
        "\n",
        "🔹 Why?\n",
        "\n",
        "    The loop prints numbers from 1 to 4.\n",
        "    When num reaches 5, break stops the loop immediately.\n",
        "    The numbers 5 to 9 are never printed.\n",
        "\n",
        "✅ Example: Using break in a while Loop\n",
        "\n",
        "count = 1\n",
        "\n",
        "while count <= 10:\n",
        "    if count == 6:\n",
        "        break  # Stop the loop when count is 6\n",
        "    print(count)\n",
        "    count += 1\n",
        "\n",
        "📌 Output:\n",
        "\n",
        "1\n",
        "2\n",
        "3\n",
        "4\n",
        "5\n",
        "\n",
        "🔹 Why?\n",
        "\n",
        "    The loop runs until count == 6.\n",
        "    When count == 6, break stops the loop.\n",
        "\n",
        "🔹 Difference Between break and continue\n",
        "Keyword\tWhat It Does\n",
        "break\tStops the loop completely.\n",
        "continue\tSkips the current iteration but keeps looping.\n",
        "✅ Example: Using continue\n",
        "\n",
        "for num in range(1, 6):\n",
        "    if num == 3:\n",
        "        continue  # Skip printing 3\n",
        "    print(num)\n",
        "\n",
        "📌 Output:\n",
        "\n",
        "1\n",
        "2\n",
        "4\n",
        "5\n",
        "\n",
        "🔹 Why?\n",
        "\n",
        "    When num == 3, continue skips it, but the loop keeps going.\n",
        "\n",
        "🔥 When to Use break?\n",
        "\n",
        "    When you find what you need in a loop and don’t want to continue.\n",
        "    When you need to exit a loop early for efficiency.\n",
        "\n",
        "Would you like me to break it down even more? 🚀\n",
        "You said:\n",
        "ChatGPT said:\n",
        "\n",
        "It looks like you're trying to fill in the blanks in a Python if statement. Based on the given variables:\n",
        "\n",
        "a = 50\n",
        "b = 10\n",
        "\n",
        "A common conditional statement would be:\n",
        "\n",
        "if a > b:\n",
        "    print(\"Yes\")\n",
        "else:\n",
        "    print(\"No\")\n",
        "\n",
        "Explanation:\n",
        "\n",
        "    a > b (50 > 10) is True, so \"Yes\" will be printed.\n",
        "\n",
        "📌 Output:\n",
        "\n",
        "Yes\n",
        "\n",
        "Would you like more explanation on this? 😊\n",
        "You said:\n",
        "okay can you teach the f thing in python as if am achild of 20 years\n",
        "ChatGPT said:\n",
        "\n",
        "Of course! 😊 Let's talk about the f-string in Python in a super simple way.\n",
        "🔹 What is an f-string?\n",
        "\n",
        "An f-string is a way to put variables inside a string without using \"+\" or \"format()\".\n",
        "🔹 Why Use f-strings?\n",
        "\n",
        "Imagine you want to say:\n",
        "\n",
        "    \"My name is Bryan and I am 20 years old.\"\n",
        "\n",
        "Instead of writing it like this:\n",
        "\n",
        "name = \"Bryan\"\n",
        "age = 20\n",
        "print(\"My name is \" + name + \" and I am \" + str(age) + \" years old.\")\n",
        "\n",
        "🚨 Problem: Too many + signs and str(age), which looks messy!\n",
        "\n",
        "✅ With f-strings, it's super easy:\n",
        "\n",
        "name = \"Bryan\"\n",
        "age = 20\n",
        "print(f\"My name is {name} and I am {age} years old.\")\n",
        "\n",
        "📌 Output:\n",
        "\n",
        "My name is Bryan and I am 20 years old.\n",
        "\n",
        "🔹 How to Use f-strings?\n",
        "\n",
        "    Start the string with f before the quotes.\n",
        "    Use { } (curly brackets) to insert variables inside the string.\n",
        "\n",
        "✅ Example:\n",
        "\n",
        "food = \"pizza\"\n",
        "print(f\"I love {food}!\")\n",
        "\n",
        "📌 Output:\n",
        "\n",
        "I love pizza!\n",
        "\n",
        "🔹 Math Inside f-strings!\n",
        "\n",
        "You can even do math inside { }:\n",
        "\n",
        "a = 10\n",
        "b = 5\n",
        "print(f\"10 + 5 = {a + b}\")\n",
        "\n",
        "📌 Output:\n",
        "\n",
        "10 + 5 = 15\n",
        "\n",
        "🔹 Formatting Numbers\n",
        "\n",
        "If you want to format decimals, you can do this:\n",
        "\n",
        "pi = 3.14159\n",
        "print(f\"Pi rounded to 2 decimal places: {pi:.2f}\")\n",
        "\n",
        "📌 Output:\n",
        "\n",
        "Pi rounded to 2 decimal places: 3.14\n",
        "\n",
        "🔹 Using f-strings with User Input\n",
        "\n",
        "You can also use f-strings with input():\n",
        "\n",
        "name = input(\"Enter your name: \")\n",
        "print(f\"Hello, {name}!\")\n",
        "\n",
        "🔥 Why Use f-strings?\n",
        "\n",
        "    Easier to read than +\n",
        "    Faster than format()\n",
        "    Works with math, input, and formatting\n",
        "\n",
        "Would you like more examples? 🚀\n",
        "You said:\n",
        "by the level you understand my level of learning create for me a short and simple notes on for loop capturing everything but be bit shot for m notes\n",
        "ChatGPT said:\n",
        "\n",
        "Here’s a short and simple note on for loops, tailored to your learning style. 🚀\n",
        "For Loop in Python\n",
        "🔹 What is a for loop?\n",
        "\n",
        "A for loop is used to repeat a block of code a certain number of times. It loops through a list, tuple, string, or range of numbers.\n",
        "🔹 Basic Syntax\n",
        "\n",
        "for variable in sequence:\n",
        "    # Code to repeat\n",
        "\n",
        "🔹 Looping Through a List\n",
        "\n",
        "fruits = [\"apple\", \"banana\", \"cherry\"]\n",
        "for fruit in fruits:\n",
        "    print(f\"I like {fruit}\")\n",
        "\n",
        "📌 Output:\n",
        "\n",
        "I like apple\n",
        "I like banana\n",
        "I like cherry\n",
        "\n",
        "🔹 Looping Using range()\n",
        "\n",
        "for num in range(1, 6):  # Loops from 1 to 5\n",
        "    print(num)\n",
        "\n",
        "📌 Output:\n",
        "\n",
        "1\n",
        "2\n",
        "3\n",
        "4\n",
        "5\n",
        "\n",
        "🔹 Using break (Stops the loop)\n",
        "\n",
        "for num in range(1, 10):\n",
        "    if num == 5:\n",
        "        break\n",
        "    print(num)\n",
        "\n",
        "📌 Output:\n",
        "\n",
        "1\n",
        "2\n",
        "3\n",
        "4\n",
        "\n",
        "🔹 Using continue (Skips current iteration)\n",
        "\n",
        "for num in range(1, 6):\n",
        "    if num == 3:\n",
        "        continue\n",
        "    print(num)\n",
        "\n",
        "📌 Output:\n",
        "\n",
        "1\n",
        "2\n",
        "4\n",
        "5\n",
        "\n",
        "🔹 Looping Through a String\n",
        "\n",
        "for letter in \"Python\":\n",
        "    print(letter)\n",
        "\n",
        "📌 Output:\n",
        "\n",
        "P\n",
        "y\n",
        "t\n",
        "h\n",
        "o\n",
        "n\n",
        "\n",
        "🔹 Looping with else (Runs when loop finishes)\n",
        "\n",
        "for num in range(3):\n",
        "    print(num)\n",
        "else:\n",
        "    print(\"Loop completed!\")\n",
        "\n",
        "📌 Output:\n",
        "\n",
        "0\n",
        "1\n",
        "2\n",
        "Loop completed!\n",
        "\n",
        "🔥 Why Use for Loops?\n",
        "\n",
        "✔️ Makes code shorter\n",
        "✔️ Helps repeat tasks easily\n",
        "✔️ Works with lists, strings, and numbers\n",
        "\n",
        "Let me know if you want it even shorter or need any part explained! 🚀\n",
        "You said:\n",
        "kindly teach me python function?? from the beginning to the end and should be one step once we complete we go to the other a\n",
        "ChatGPT said:\n",
        "\n",
        "Got it! We'll learn Python functions step by step. I'll explain each part clearly, and once you understand, we move to the next step. 😊\n",
        "Step 1: What is a Function?\n",
        "\n",
        "A function is a block of code that performs a specific task. Instead of writing the same code again and again, we put it inside a function and call it whenever we need it.\n",
        "Example (Without a function):\n",
        "\n",
        "print(\"Hello, Bryan!\")\n",
        "print(\"Hello, Nova!\")\n",
        "print(\"Hello, World!\")\n",
        "\n",
        "📌 Problem: If we want to greet 100 people, we have to repeat the print() statement 100 times! 😵\n",
        "Solution: Use a Function!\n",
        "\n",
        "def greet():\n",
        "    print(\"Hello!\")\n",
        "\n",
        "Now, whenever we call greet(), it will print \"Hello!\".\n",
        "✅ Task for You:\n",
        "\n",
        "Try running this code in Python:\n",
        "\n",
        "def say_hello():\n",
        "    print(\"Hi there!\")\n",
        "say_hello()\n",
        "say_hello()\n",
        "\n",
        "What do you think the output will be? 😊\n",
        "You said:\n",
        "hi there 2 times\n",
        "ChatGPT said:\n",
        "\n",
        "Exactly! 🎉 The output will be:\n",
        "\n",
        "Hi there!\n",
        "Hi there!\n",
        "\n",
        "This shows that a function can be reused without rewriting the same code multiple times.\n",
        "Step 2: Creating a Function in Python\n",
        "\n",
        "Now, let's understand how to define a function properly.\n",
        "🔹 Function Structure\n",
        "\n",
        "A function in Python has three main parts:\n",
        "1️⃣ def keyword (to define the function)\n",
        "2️⃣ Function name (a unique name for the function)\n",
        "3️⃣ Parentheses () and a colon : (to start the function block)\n",
        "Example:\n",
        "\n",
        "def greet():\n",
        "    print(\"Hello, Bryan!\")  # This is the function body\n",
        "\n",
        "Now, to run the function, we call it by writing:\n",
        "\n",
        "greet()\n",
        "\n",
        "📌 Output:\n",
        "\n",
        "Hello, Bryan!\n",
        "\n",
        "✅ Task for You:\n",
        "\n",
        "Create a function called welcome that prints \"Welcome to Python!\"\n",
        "Then call it two times.\n",
        "\n",
        "Try it and tell me what happens! 🚀\n",
        "You said:\n",
        "first when i copy and i pasrte these code it give me no output?\n",
        "ChatGPT said:\n",
        "\n",
        "Great observation! If you only define a function but don't call it, Python won’t execute the function.\n",
        "🔹 Why?\n",
        "\n",
        "When you define a function using def, Python just stores it but doesn't run it until you call the function.\n",
        "🔹 Fixing It\n",
        "\n",
        "If you copy and paste only this part:\n",
        "\n",
        "def greet():\n",
        "    print(\"Hello, Bryan!\")\n",
        "\n",
        "It won’t print anything because we just defined the function.\n",
        "\n",
        "To call the function and see the output, add:\n",
        "\n",
        "greet()  # Calling the function\n",
        "\n",
        "Now, the full working code is:\n",
        "\n",
        "def greet():\n",
        "    print(\"Hello, Bryan!\")\n",
        "\n",
        "greet()  # Function call\n",
        "\n",
        "📌 Output:\n",
        "\n",
        "Hello, Bryan!\n",
        "\n",
        "✅ Task for You:\n",
        "\n",
        "Try defining a function called welcome that prints \"Welcome to Python!\", and remember to call it! 😃\n",
        "You said:\n",
        "it types back welcome to python  and as we arre learning guide me until i can solve and explain thesen # Challenge 3\n",
        "# A particular cell phone plan includes 20 minutes of air time and 20 text messages\n",
        "# for Ksh. 50.00 a month. Each additional minute of air time costs Ksh. 3.00,\n",
        "# while additional text messages cost Ksh. 2.00 each.\n",
        "# The entire bill (including the 999 charge) is subject to 16 percent VAT tax.\n",
        "# Write a program that reads the number of minutes and text messages used in a month from the user.\n",
        "# Display the base charge, additional minutes charge (if any),\n",
        "# additional text message charge (if any), tax and total bill amount.\n",
        "# Only display the additional minute and text message charges if the user incurred costs in these categories.\n",
        "# Ensure that all of the charges are displayed using 2 decimal places.\n",
        " dont give me answer but guide me while we continue teaching me\n",
        "ChatGPT said:\n",
        "\n",
        "Awesome! 🎉 You're doing great. We'll continue step by step, making sure you understand everything before moving forward.\n",
        "Step 3: Functions with Parameters\n",
        "\n",
        "Now, let's learn how to pass values into a function to make it more useful.\n",
        "\n",
        "Right now, our functions always print the same message. But what if we want to greet different people? 🤔\n",
        "🔹 Example Without Parameters\n",
        "\n",
        "def greet():\n",
        "    print(\"Hello, Bryan!\")\n",
        "\n",
        "greet()\n",
        "greet()\n",
        "\n",
        "📌 Problem: It always prints \"Hello, Bryan!\", even if we want to greet someone else.\n",
        "🔹 Solution: Use Parameters\n",
        "\n",
        "A parameter is a value we pass into a function to customize its behavior.\n",
        "\n",
        "def greet(name):\n",
        "    print(\"Hello, \" + name + \"!\")\n",
        "\n",
        "greet(\"Bryan\")\n",
        "greet(\"Nova\")\n",
        "\n",
        "📌 Output:\n",
        "\n",
        "Hello, Bryan!\n",
        "Hello, Nova!\n",
        "\n",
        "Now, the function can greet anyone we want! 🎉\n",
        "✅ Task for You:\n",
        "\n",
        "1️⃣ Define a function called introduce that takes one parameter (name).\n",
        "2️⃣ Inside the function, print \"Hi, my name is <name>!\"\n",
        "3️⃣ Call the function two times with different names.\n",
        "\n",
        "Try it and tell me what happens! 🚀\n",
        "You said:\n",
        "def introduction(name):\n",
        "  print(\"hi,my <name> is \")\n",
        "introduction(\"Bryan\")\n",
        "introduction(\"Nova\") where did i go wong?\n",
        "ChatGPT said:\n",
        "\n",
        "You're very close! 🎉 The issue is in this line inside the function:\n",
        "\n",
        "print(\"hi,my <name> is \")\n",
        "\n",
        "Python treats \"<name>\" as just text, not as a variable.\n",
        "🔹 Fixing It\n",
        "\n",
        "To use a variable inside a string, you have two correct ways:\n",
        "✅ Option 1: String Concatenation (+)\n",
        "\n",
        "def introduction(name):\n",
        "    print(\"Hi, my name is \" + name)\n",
        "\n",
        "introduction(\"Bryan\")\n",
        "introduction(\"Nova\")\n",
        "\n",
        "📌 Output:\n",
        "\n",
        "Hi, my name is Bryan\n",
        "Hi, my name is Nova\n",
        "\n",
        "✅ Option 2: Using f-Strings (Best Way)\n",
        "\n",
        "f-strings let you directly insert variables into a string.\n",
        "\n",
        "def introduction(name):\n",
        "    print(f\"Hi, my name is {name}\")\n",
        "\n",
        "introduction(\"Bryan\")\n",
        "introduction(\"Nova\")\n",
        "\n",
        "📌 Output: (Same as before)\n",
        "\n",
        "Hi, my name is Bryan\n",
        "Hi, my name is Nova\n",
        "\n",
        "Using f-strings is the best practice because it's cleaner and easier to read.\n",
        "✅ Task for You:\n",
        "\n",
        "Modify your function using f-strings and run it again. Let me know if you get the correct output! 🚀\n",
        "You said:\n",
        "def introduction (name):\n",
        "  print (\"f hi my name is  {name}\")\n",
        "  introduction(\"Bryan\")\n",
        "  introduction(\"Nova\") why diidt not show output\n",
        "ChatGPT said:\n",
        "\n",
        "You're very close! 🚀 The issue is two things:\n",
        "\n",
        "1️⃣ Indentation mistake – The function calls (introduction(\"Bryan\"), introduction(\"Nova\")) should not be inside the function itself.\n",
        "2️⃣ Wrong f-string syntax – The f should be outside the quotes, like this:\n",
        "✅ Corrected Code\n",
        "\n",
        "def introduction(name):\n",
        "    print(f\"Hi, my name is {name}\")  # f is outside the quotes\n",
        "\n",
        "introduction(\"Bryan\")  # Function call (outside)\n",
        "introduction(\"Nova\")   # Function call (outside)\n",
        "\n",
        "📌 Output:\n",
        "\n",
        "Hi, my name is Bryan\n",
        "Hi, my name is Nova\n",
        "\n",
        "🔹 What Was Wrong?\n",
        "\n",
        "def introduction (name):\n",
        "  print (\"f hi my name is  {name}\")  # ❌ \"f\" is inside the quotes\n",
        "  introduction(\"Bryan\")  # ❌ This should be outside the function\n",
        "  introduction(\"Nova\")   # ❌ This should be outside the function\n",
        "\n",
        "Fixes: ✅ Move function calls outside the function\n",
        "✅ Use f\"...\" correctly\n",
        "\n",
        "Try the corrected version and tell me what happens! 🚀\n",
        "You said:\n",
        "def introduction (name):\n",
        "  print (\"f hi my name is  {name}\")\n",
        "introduction(\"Bryan\")\n",
        "introduction(\"Nova\")\n",
        "ChatGPT said:\n",
        "\n",
        "You're very close again! The issue is in the way you're using f-strings.\n",
        "🔹 Mistake in Your Code\n",
        "\n",
        "def introduction (name):\n",
        "  print (\"f hi my name is  {name}\")  # ❌ \"f\" should be outside the quotes\n",
        "\n",
        "🔴 Problem:\n",
        "\n",
        "    You wrote \"f hi my name is {name}\" with \"f\" inside the quotes.\n",
        "    Python treats it as a normal string, not an f-string.\n",
        "\n",
        "✅ Corrected Code\n",
        "\n",
        "def introduction(name):\n",
        "    print(f\"Hi, my name is {name}\")  # ✅ f is outside the quotes\n",
        "\n",
        "introduction(\"Bryan\")\n",
        "introduction(\"Nova\")\n",
        "\n",
        "📌 Output:\n",
        "\n",
        "Hi, my name is Bryan\n",
        "Hi, my name is Nova\n",
        "\n",
        "🔹 What You Fixed\n",
        "\n",
        "✅ f should be outside the quotes:\n",
        "\n",
        "print(f\"Hi, my name is {name}\")\n",
        "\n",
        "❌ This is wrong:\n",
        "\n",
        "print (\"f hi my name is {name}\")\n",
        "\n",
        "Python thinks \"f hi my name is {name}\" is just normal text, not a formatted string.\n",
        "✅ Task for You:\n",
        "\n",
        "1️⃣ Run the corrected version above.\n",
        "2️⃣ If it works, try adding another function call like:\n",
        "\n",
        "introduction(\"Alice\")\n",
        "\n",
        "Tell me if you get the expected output! 🚀\n",
        "You said:\n",
        "i hope we are getting near to the quiz i showed you?\n",
        "ChatGPT said:\n",
        "\n",
        "Yes! We're making solid progress. 🚀\n",
        "\n",
        "Understanding functions is important before tackling your quiz because:\n",
        "✅ You'll need to write a function to calculate the bill.\n",
        "✅ You'll use parameters to pass the number of minutes & messages.\n",
        "✅ You'll need conditions (if statements) to check extra charges.\n",
        "🔹 Next Steps Before the Quiz\n",
        "\n",
        "Now that you understand basic functions and f-strings, let's learn:\n",
        "1️⃣ Returning values from a function (instead of just printing).\n",
        "2️⃣ If-else statements inside functions (to check extra charges).\n",
        "3️⃣ Calculating values inside a function (like your quiz task).\n",
        "\n",
        "After that, we'll be fully ready to solve your quiz step by step together! 💪\n",
        "Step 4: Returning Values from a Function\n",
        "\n",
        "Right now, our functions just print(), but sometimes, we want a function to give back a value.\n",
        "✅ Example Without return\n",
        "\n",
        "def add(a, b):\n",
        "    print(a + b)  # Just prints the result\n",
        "\n",
        "add(5, 3)  # Output: 8\n",
        "\n",
        "📌 Problem: It only prints the result. We can't store or use it later.\n",
        "✅ Example With return\n",
        "\n",
        "def add(a, b):\n",
        "    return a + b  # Gives back the sum\n",
        "\n",
        "result = add(5, 3)  # Store the result\n",
        "print(result)  # Output: 8\n",
        "\n",
        "📌 Why return is important?\n",
        "✔ Now we can store the result in a variable.\n",
        "✔ We can use the result later (for more calculations).\n",
        "🔹 Task for You\n",
        "\n",
        "1️⃣ Write a function multiply(x, y) that returns the product of x and y.\n",
        "2️⃣ Store the result in a variable and print it.\n",
        "\n",
        "Try it and tell me if it works! 🚀\n",
        "You said:\n",
        "def multiply(x,y):\n",
        "    return x * y\n",
        "\n",
        "    result+ multiply(3*5)\n",
        "    print(result)\n",
        "ChatGPT said:\n",
        "\n",
        "You're very close! 🚀 Just a few small mistakes:\n",
        "🔴 Issues in Your Code\n",
        "\n",
        "def multiply(x,y):\n",
        "    return x * y  # ✅ This part is correct\n",
        "\n",
        "    result+ multiply(3*5)  # ❌ `result+` is wrong, and `3*5` is wrong\n",
        "    print(result)  # ❌ This is inside the function but should be outside\n",
        "\n",
        "🔴 Mistakes:\n",
        "1️⃣ result+ multiply(3*5) → Wrong syntax\n",
        "\n",
        "    You meant result = multiply(3, 5) (use = instead of +).\n",
        "    2️⃣ 3*5 inside multiply(3*5) → Wrong argument passing\n",
        "    multiply expects two numbers, so use multiply(3, 5).\n",
        "    3️⃣ print(result) is inside the function → It should be outside!\n",
        "\n",
        "✅ Corrected Code\n",
        "\n",
        "def multiply(x, y):\n",
        "    return x * y  # ✅ Returns the product\n",
        "\n",
        "# Call the function and store the result\n",
        "result = multiply(3, 5)  # ✅ Passing two numbers\n",
        "\n",
        "print(result)  # ✅ Output: 15\n",
        "\n",
        "📌 Expected Output:\n",
        "\n",
        "15\n",
        "\n",
        "🔹 Task for You\n",
        "\n",
        "1️⃣ Run the corrected version and check if you get 15.\n",
        "2️⃣ Try calling multiply(7, 4) and tell me the output! 🚀\n",
        "You said:\n",
        "lets continue\n",
        "ChatGPT said:\n",
        "\n",
        "Great! Now that you understand functions with return, let’s move to if-else statements inside functions, which will help in solving your quiz. 🚀\n",
        "Step 5: If-Else in Functions\n",
        "\n",
        "In your quiz, you need to check:\n",
        "✅ If minutes/texts are above 20, charge extra.\n",
        "✅ If not, don’t add extra charges.\n",
        "🔹 Example: Checking Extra Charges\n",
        "\n",
        "def check_extra_minutes(used_minutes):\n",
        "    if used_minutes > 20:\n",
        "        extra_minutes = used_minutes - 20\n",
        "        return f\"You have {extra_minutes} extra minutes.\"\n",
        "    else:\n",
        "        return \"No extra charges.\"\n",
        "\n",
        "print(check_extra_minutes(25))  # ✅ Output: You have 5 extra minutes.\n",
        "print(check_extra_minutes(18))  # ✅ Output: No extra charges.\n",
        "\n",
        "📌 How It Works:\n",
        "✔ If used_minutes is greater than 20, it calculates extra minutes.\n"
      ],
      "metadata": {
        "id": "WropDthoqvnY",
        "outputId": "def58894-f53a-4f63-8a2d-0d590dae6b09",
        "colab": {
          "base_uri": "https://localhost:8080/",
          "height": 108
        }
      },
      "execution_count": 13,
      "outputs": [
        {
          "output_type": "error",
          "ename": "SyntaxError",
          "evalue": "invalid character '🚀' (U+1F680) (<ipython-input-13-71d9173f0994>, line 41)",
          "traceback": [
            "\u001b[0;36m  File \u001b[0;32m\"<ipython-input-13-71d9173f0994>\"\u001b[0;36m, line \u001b[0;32m41\u001b[0m\n\u001b[0;31m    Would you like any modifications or explanations? 🚀\u001b[0m\n\u001b[0m                                                      ^\u001b[0m\n\u001b[0;31mSyntaxError\u001b[0m\u001b[0;31m:\u001b[0m invalid character '🚀' (U+1F680)\n"
          ]
        }
      ]
    },
    {
      "cell_type": "code",
      "source": [
        "def test_return():\n",
        "    for i in range(5):\n",
        "        if i == 2:\n",
        "            return \"Function stopped\"\n",
        "        print(i)\n",
        "\n",
        "print(test_return())"
      ],
      "metadata": {
        "id": "YzVMle3grbWA",
        "outputId": "6d053551-4997-42c1-9f18-6d8b9784a92f",
        "colab": {
          "base_uri": "https://localhost:8080/"
        }
      },
      "execution_count": 14,
      "outputs": [
        {
          "output_type": "stream",
          "name": "stdout",
          "text": [
            "0\n",
            "1\n",
            "Function stopped\n"
          ]
        }
      ]
    },
    {
      "cell_type": "code",
      "source": [
        "def test_return():\n",
        "    for i in range(5):\n",
        "        print(i)  # No return, just print\n",
        "\n",
        "test_return()"
      ],
      "metadata": {
        "id": "Z8yHTO3t7Tfl",
        "outputId": "fd72c8dd-3c04-4a46-a342-322cfc55be2f",
        "colab": {
          "base_uri": "https://localhost:8080/"
        }
      },
      "execution_count": 15,
      "outputs": [
        {
          "output_type": "stream",
          "name": "stdout",
          "text": [
            "0\n",
            "1\n",
            "2\n",
            "3\n",
            "4\n"
          ]
        }
      ]
    },
    {
      "cell_type": "code",
      "source": [
        "x = 18\n",
        "Age = input(\"Enter your  age\")\n",
        "if x>18:\n",
        "  print(\"the user is eligible to vote\")\n",
        "else:\n",
        "  print(\"the user is not eligible to vote\")\n"
      ],
      "metadata": {
        "id": "ObfAU3Bb-1yu",
        "outputId": "1b3188a9-75b5-478c-a0ba-452b2ca9d03a",
        "colab": {
          "base_uri": "https://localhost:8080/"
        }
      },
      "execution_count": 19,
      "outputs": [
        {
          "output_type": "stream",
          "name": "stdout",
          "text": [
            "Enter your  age20\n",
            "the user is not eligible to vote\n"
          ]
        }
      ]
    },
    {
      "cell_type": "code",
      "source": [
        "age = int(input(\"Enter your age: \"))\n",
        "\n",
        "if age > 0:  # Ensures the input is valid\n",
        "    age = int(input(\"Enter your age: \"))\n",
        "\n",
        "if age > 0:  # Ensures the input is valid\n",
        "    if age >= 18:\n",
        "        print(\"You are eligible to vote.\")\n",
        "        if age == 18:\n",
        "          print(\"welcome to voting for the first time\")\n",
        "        else:\n",
        "          print(\"You are  eligible to vote.\")\n",
        "        # Nested if to check age category\n",
        "        if age >= 60:\n",
        "            print(\"You are a senior citizen.\")\n",
        "        else:\n",
        "            print(\"You are an adult.\")\n",
        "            if age == 60:\n",
        "              print(\"You have reached senior voting age!\")\n",
        "    else:\n",
        "        print(\"You are not eligible to vote.\")\n",
        "        print(\"You are a minor.\")\n",
        "else:\n",
        "    print(\"Invalid age!\")\n",
        "    print(\"You are  eligible to vote.\")\n",
        "        # Nested if to check age category\n",
        "        if age >= 60:\n",
        "            print(\"You are a senior citizen.\")\n",
        "        else:\n",
        "            print(\"You are an adult.\")\n",
        "            if age = 60:\n",
        "              print(\"You have reached senior voting age!\")\n",
        "    else:\n",
        "        print(\"You are not eligible to vote.\")\n",
        "        print(\"You are a minor.\")\n",
        "else:\n",
        "    print(\"Invalid age!\")"
      ],
      "metadata": {
        "id": "WwZOmQXPE7D1",
        "outputId": "e9301105-df91-4886-9cff-7e3a29d20ded",
        "colab": {
          "base_uri": "https://localhost:8080/",
          "height": 108
        }
      },
      "execution_count": 23,
      "outputs": [
        {
          "output_type": "error",
          "ename": "IndentationError",
          "evalue": "unexpected indent (<ipython-input-23-0995b7bdb903>, line 27)",
          "traceback": [
            "\u001b[0;36m  File \u001b[0;32m\"<ipython-input-23-0995b7bdb903>\"\u001b[0;36m, line \u001b[0;32m27\u001b[0m\n\u001b[0;31m    if age >= 60:\u001b[0m\n\u001b[0m    ^\u001b[0m\n\u001b[0;31mIndentationError\u001b[0m\u001b[0;31m:\u001b[0m unexpected indent\n"
          ]
        }
      ]
    },
    {
      "cell_type": "code",
      "source": [
        "\n",
        "\n",
        "if age > 0:  # Ensures the input is valid\n",
        "    age = int(input(\"Enter your age: \")) #This line was not indented\n",
        "\n",
        "    if age > 0:  # Ensures the input is valid\n",
        "        if age >= 18:\n",
        "            print(\"You are eligible to vote.\")\n",
        "            if age == 18:\n",
        "                print(\"welcome to voting for the first time\")\n",
        "            else:\n",
        "                print(\"You are  eligible to vote.\")\n",
        "            # Nested if to check age category\n",
        "            if age >= 60:\n",
        "                print(\"You are a senior citizen.\")\n",
        "            else:\n",
        "                print(\"You are an adult.\")\n",
        "                if age == 60:\n",
        "                    print(\"You have reached senior voting age!\")\n",
        "        else:\n",
        "            print(\"You are not eligible to vote.\")\n",
        "            print(\"You are a minor.\")\n",
        "else:\n",
        "    print(\"Invalid age!\")"
      ],
      "metadata": {
        "id": "PIWEAX5qGbjc",
        "outputId": "18e7642e-9142-4516-85c5-a628eea2231a",
        "colab": {
          "base_uri": "https://localhost:8080/"
        }
      },
      "execution_count": 27,
      "outputs": [
        {
          "output_type": "stream",
          "name": "stdout",
          "text": [
            "Enter your age: 18\n",
            "You are eligible to vote.\n",
            "welcome to voting for the first time\n",
            "You are an adult.\n"
          ]
        }
      ]
    },
    {
      "cell_type": "code",
      "source": [
        "    Asks the user to input their temperature (in Celsius).\n",
        "    Classifies the temperature into different weather conditions:\n",
        "        Above 35°C → \"It's extremely hot! Stay hydrated. 🌞\"\n",
        "        Between 25°C and 35°C → \"The weather is warm. ☀️\"\n",
        "        Between 15°C and 24°C → \"It's a pleasant day. 🌤️\"\n",
        "        Between 5°C and 14°C → \"It's a bit chilly. Wear a jacket. 🧥\"\n",
        "        Below 5°C → \"It's freezing! Stay warm. ❄️\"\n",
        "    Handles invalid inputs (e.g., if the user enters text instead of a number).\n",
        "\n",
        "🚀 Bonus Challenge:\n",
        "\n",
        "    Add a special message for exactly 0°C saying, \"Freezing point of water! ❄️\"\n",
        "\n",
        "⚡ Deliverable:\n",
        "\n",
        "    Write and test your program.\n",
        "    Once done, push it to GitHub!"
      ],
      "metadata": {
        "id": "OV8ay5shIWVF",
        "outputId": "0fddcac6-5734-4102-a663-edcfaac31913",
        "colab": {
          "base_uri": "https://localhost:8080/",
          "height": 108
        }
      },
      "execution_count": 28,
      "outputs": [
        {
          "output_type": "error",
          "ename": "IndentationError",
          "evalue": "unexpected indent (<ipython-input-28-9242ed18cf56>, line 2)",
          "traceback": [
            "\u001b[0;36m  File \u001b[0;32m\"<ipython-input-28-9242ed18cf56>\"\u001b[0;36m, line \u001b[0;32m2\u001b[0m\n\u001b[0;31m    if Temperature > 35\u001b[0m\n\u001b[0m    ^\u001b[0m\n\u001b[0;31mIndentationError\u001b[0m\u001b[0;31m:\u001b[0m unexpected indent\n"
          ]
        }
      ]
    },
    {
      "cell_type": "code",
      "source": [
        "temperature = input(\"Enter your temperature in degree celcuis\")\n",
        "        if temperature >=  35\n",
        "        print(\"It's extremely hot! Stay hydrated. 🌞\")\n",
        "        elif temperature >= 25 and temperature <= 35:\n",
        "        print(\"The weather is warm. ☀️\")\n",
        "        elif temperature >= 15 and temperature <= 24:\n",
        "        print(\"It's a pleasant day. 🌤️\")\n",
        "        elif temperature >= 5 and temperature <= 14:\n",
        "        print(\"It's a bit chilly. Wear a jacket. 🧥\")\n",
        "        elif temperature == 0:\n",
        "          print(\"Freezing point of water\")\n",
        "\n",
        "        else:\n",
        "        print(\"It's freezing! Stay warm. ❄️\")"
      ],
      "metadata": {
        "id": "t00nBwZQOIzI",
        "outputId": "b3cb25ca-99de-4328-e85a-d03dc4b9b5d1",
        "colab": {
          "base_uri": "https://localhost:8080/",
          "height": 108
        }
      },
      "execution_count": 31,
      "outputs": [
        {
          "output_type": "error",
          "ename": "IndentationError",
          "evalue": "unexpected indent (<ipython-input-31-7b19376bd4fd>, line 2)",
          "traceback": [
            "\u001b[0;36m  File \u001b[0;32m\"<ipython-input-31-7b19376bd4fd>\"\u001b[0;36m, line \u001b[0;32m2\u001b[0m\n\u001b[0;31m    if temperature >=  35\u001b[0m\n\u001b[0m    ^\u001b[0m\n\u001b[0;31mIndentationError\u001b[0m\u001b[0;31m:\u001b[0m unexpected indent\n"
          ]
        }
      ]
    },
    {
      "cell_type": "code",
      "source": [
        "temperature = input(\"Enter your temperature in degree celcuis\")\n",
        "        if temperature >=  35\n",
        "        print(\"It's extremely hot! Stay hydrated. 🌞\")\n",
        "        elif temperature >= 25 and temperature <= 35:\n",
        "        print(\"The weather is warm. ☀️\")\n",
        "        elif temperature >= 15 and temperature <= 24:\n",
        "        print(\"It's a pleasant day. 🌤️\")\n",
        "        elif temperature >= 5 and temperature <= 14:\n",
        "        print(\"It's a bit chilly. Wear a jacket. 🧥\")\n",
        "        elif temperature == 0:\n",
        "          print(\"Freezing point of water\")\n",
        "\n",
        "        else:\n",
        "        print(\"It's freezing! Stay warm. ❄️\")"
      ],
      "metadata": {
        "id": "JAiczhJcP1Zz",
        "outputId": "d723c9c3-68a1-4dbb-a393-3c8fac98cae1",
        "colab": {
          "base_uri": "https://localhost:8080/",
          "height": 108
        }
      },
      "execution_count": 33,
      "outputs": [
        {
          "output_type": "error",
          "ename": "IndentationError",
          "evalue": "unexpected indent (<ipython-input-33-7b19376bd4fd>, line 2)",
          "traceback": [
            "\u001b[0;36m  File \u001b[0;32m\"<ipython-input-33-7b19376bd4fd>\"\u001b[0;36m, line \u001b[0;32m2\u001b[0m\n\u001b[0;31m    if temperature >=  35\u001b[0m\n\u001b[0m    ^\u001b[0m\n\u001b[0;31mIndentationError\u001b[0m\u001b[0;31m:\u001b[0m unexpected indent\n"
          ]
        }
      ]
    },
    {
      "cell_type": "code",
      "source": [
        "temperature = int(input(\"Enter your temperature in degree Celsius: \"))\n",
        "\n",
        "if temperature >= 35:\n",
        "    print(\"It's extremely hot! Stay hydrated. 🌞\")\n",
        "elif 25 <= temperature < 35:\n",
        "    print(\"The weather is warm. ☀️\")\n",
        "elif 15 <= temperature < 25:\n",
        "    print(\"It's a pleasant day. 🌤️\")\n",
        "elif 5 <= temperature < 15:\n",
        "    print(\"It's a bit chilly. Wear a jacket. 🧥\")\n",
        "elif temperature == 0:\n",
        "    print(\"Freezing point of water ❄️\")\n",
        "else:\n",
        "    print(\"It's freezing! Stay warm. ❄️\")"
      ],
      "metadata": {
        "id": "8HtV8rW-Qj_f",
        "outputId": "9d08cb03-090d-4320-de12-989b3d6e1aba",
        "colab": {
          "base_uri": "https://localhost:8080/"
        }
      },
      "execution_count": 34,
      "outputs": [
        {
          "output_type": "stream",
          "name": "stdout",
          "text": [
            "Enter your temperature in degree Celsius: 12\n",
            "It's a bit chilly. Wear a jacket. 🧥\n"
          ]
        }
      ]
    }
  ]
}