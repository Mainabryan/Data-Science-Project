{
  "nbformat": 4,
  "nbformat_minor": 0,
  "metadata": {
    "colab": {
      "provenance": [],
      "authorship_tag": "ABX9TyMdu2uEMc6UUA0K4+XEuXDz",
      "include_colab_link": true
    },
    "kernelspec": {
      "name": "python3",
      "display_name": "Python 3"
    },
    "language_info": {
      "name": "python"
    }
  },
  "cells": [
    {
      "cell_type": "markdown",
      "metadata": {
        "id": "view-in-github",
        "colab_type": "text"
      },
      "source": [
        "<a href=\"https://colab.research.google.com/github/Mainabryan/Data-Science-Project/blob/main/Gathering_data_with_API.ipynb\" target=\"_parent\"><img src=\"https://colab.research.google.com/assets/colab-badge.svg\" alt=\"Open In Colab\"/></a>"
      ]
    },
    {
      "cell_type": "markdown",
      "source": [
        "## REQUEST libraries"
      ],
      "metadata": {
        "id": "WXO1YibkA1fJ"
      }
    },
    {
      "cell_type": "code",
      "execution_count": 1,
      "metadata": {
        "colab": {
          "base_uri": "https://localhost:8080/"
        },
        "id": "X_DYXE0SAruI",
        "outputId": "f93d1ffd-5f25-4430-f560-f5887c46d282"
      },
      "outputs": [
        {
          "output_type": "stream",
          "name": "stdout",
          "text": [
            "Requirement already satisfied: requests in /usr/local/lib/python3.11/dist-packages (2.32.3)\n",
            "Requirement already satisfied: charset-normalizer<4,>=2 in /usr/local/lib/python3.11/dist-packages (from requests) (3.4.2)\n",
            "Requirement already satisfied: idna<4,>=2.5 in /usr/local/lib/python3.11/dist-packages (from requests) (3.10)\n",
            "Requirement already satisfied: urllib3<3,>=1.21.1 in /usr/local/lib/python3.11/dist-packages (from requests) (2.4.0)\n",
            "Requirement already satisfied: certifi>=2017.4.17 in /usr/local/lib/python3.11/dist-packages (from requests) (2025.4.26)\n"
          ]
        }
      ],
      "source": [
        "!pip install requests"
      ]
    },
    {
      "cell_type": "markdown",
      "source": [
        "#2. GET Method"
      ],
      "metadata": {
        "id": "i-UrGDanDM_b"
      }
    },
    {
      "cell_type": "markdown",
      "source": [
        "The GET HTTP method is mainly used in REST APIs to retrieve resources without modifying them. For testing this method, you can use JSONPlaceholder, a free online service."
      ],
      "metadata": {
        "id": "B8sjh6dsDYPv"
      }
    },
    {
      "cell_type": "code",
      "source": [
        "\n",
        "import requests\n",
        "api_url = \"https://jsonplaceholder.typicode.com/todos/1\"\n",
        "response = requests.get(api_url)\n",
        "response.json()\n"
      ],
      "metadata": {
        "colab": {
          "base_uri": "https://localhost:8080/"
        },
        "id": "Mlc2L5mWDZm7",
        "outputId": "37706bec-3cf6-4fde-f60d-fd98df2a82d0"
      },
      "execution_count": 4,
      "outputs": [
        {
          "output_type": "execute_result",
          "data": {
            "text/plain": [
              "{'userId': 1, 'id': 1, 'title': 'delectus aut autem', 'completed': False}"
            ]
          },
          "metadata": {},
          "execution_count": 4
        }
      ]
    },
    {
      "cell_type": "markdown",
      "source": [
        "## 3. POST Method"
      ],
      "metadata": {
        "id": "kpjXhzCmEcl6"
      }
    },
    {
      "cell_type": "code",
      "source": [
        "# Data to send in the POST request\n",
        "data = {\n",
        "    \"userId\": 1,\n",
        "    \"title\": \"Buy milk\",\n",
        "    \"completed\": False\n",
        "}\n",
        "\n",
        "# Define the API endpoint\n",
        "api_url = \"https://jsonplaceholder.typicode.com/todos\"\n",
        "\n",
        "# Send a POST request\n",
        "response = requests.post(api_url, json=data)\n",
        "\n",
        "# Print the response JSON\n",
        "print(response.json())"
      ],
      "metadata": {
        "colab": {
          "base_uri": "https://localhost:8080/"
        },
        "id": "nz_G0A0MEh1k",
        "outputId": "453b9d49-1470-4f39-94ac-44337f45ade9"
      },
      "execution_count": 5,
      "outputs": [
        {
          "output_type": "stream",
          "name": "stdout",
          "text": [
            "{'userId': 1, 'title': 'Buy milk', 'completed': False, 'id': 201}\n"
          ]
        }
      ]
    },
    {
      "cell_type": "markdown",
      "source": [
        "## 4. Put Method"
      ],
      "metadata": {
        "id": "Er-8nY1eFlO5"
      }
    },
    {
      "cell_type": "code",
      "source": [
        "todo = {\"userId\": 1, \"title\": \"Wash car\", \"completed\": True}\n",
        "response = requests.put(api_url, json=todo)\n",
        "response.json()"
      ],
      "metadata": {
        "colab": {
          "base_uri": "https://localhost:8080/"
        },
        "id": "Gtgiy0INFgiT",
        "outputId": "f5974dce-54df-4ac8-d706-df79d7e98818"
      },
      "execution_count": 7,
      "outputs": [
        {
          "output_type": "execute_result",
          "data": {
            "text/plain": [
              "{}"
            ]
          },
          "metadata": {},
          "execution_count": 7
        }
      ]
    },
    {
      "cell_type": "markdown",
      "source": [
        "## 5Check the reponse"
      ],
      "metadata": {
        "id": "ca0wpEO2HOpq"
      }
    },
    {
      "cell_type": "code",
      "source": [
        "response.status_code"
      ],
      "metadata": {
        "colab": {
          "base_uri": "https://localhost:8080/"
        },
        "id": "h2FzWOBUHSlN",
        "outputId": "9a5b99bf-0174-46f8-8d1d-970b6dcdabc5"
      },
      "execution_count": 8,
      "outputs": [
        {
          "output_type": "execute_result",
          "data": {
            "text/plain": [
              "404"
            ]
          },
          "metadata": {},
          "execution_count": 8
        }
      ]
    }
  ]
}