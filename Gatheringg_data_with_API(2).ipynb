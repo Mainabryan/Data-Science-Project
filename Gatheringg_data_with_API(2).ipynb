{
  "nbformat": 4,
  "nbformat_minor": 0,
  "metadata": {
    "colab": {
      "provenance": [],
      "authorship_tag": "ABX9TyP5mjg+0xUFvwjk9LCbxhEN",
      "include_colab_link": true
    },
    "kernelspec": {
      "name": "python3",
      "display_name": "Python 3"
    },
    "language_info": {
      "name": "python"
    }
  },
  "cells": [
    {
      "cell_type": "markdown",
      "metadata": {
        "id": "view-in-github",
        "colab_type": "text"
      },
      "source": [
        "<a href=\"https://colab.research.google.com/github/Mainabryan/Data-Science-Project/blob/main/Gatheringg_data_with_API(2).ipynb\" target=\"_parent\"><img src=\"https://colab.research.google.com/assets/colab-badge.svg\" alt=\"Open In Colab\"/></a>"
      ]
    },
    {
      "cell_type": "markdown",
      "source": [
        "## Request the libraries"
      ],
      "metadata": {
        "id": "8lq8pht1ITon"
      }
    },
    {
      "cell_type": "code",
      "execution_count": 2,
      "metadata": {
        "colab": {
          "base_uri": "https://localhost:8080/"
        },
        "id": "_jPNstWPIId2",
        "outputId": "b58d3ff2-3842-415b-86e5-c79d55a90839"
      },
      "outputs": [
        {
          "output_type": "stream",
          "name": "stdout",
          "text": [
            "Requirement already satisfied: requests in /usr/local/lib/python3.11/dist-packages (2.32.3)\n",
            "Requirement already satisfied: charset-normalizer<4,>=2 in /usr/local/lib/python3.11/dist-packages (from requests) (3.4.2)\n",
            "Requirement already satisfied: idna<4,>=2.5 in /usr/local/lib/python3.11/dist-packages (from requests) (3.10)\n",
            "Requirement already satisfied: urllib3<3,>=1.21.1 in /usr/local/lib/python3.11/dist-packages (from requests) (2.4.0)\n",
            "Requirement already satisfied: certifi>=2017.4.17 in /usr/local/lib/python3.11/dist-packages (from requests) (2025.4.26)\n"
          ]
        }
      ],
      "source": [
        "!pip install requests"
      ]
    },
    {
      "cell_type": "markdown",
      "source": [
        "## 1️⃣ GET – Retrieve Data"
      ],
      "metadata": {
        "id": "byf76fFOSgzu"
      }
    },
    {
      "cell_type": "code",
      "source": [
        "import requests\n",
        "\n",
        "response = requests.get(\"https://jsonplaceholder.typicode.com/todos/1\")\n",
        "print(response.json())"
      ],
      "metadata": {
        "colab": {
          "base_uri": "https://localhost:8080/"
        },
        "id": "YVOyk-tuSn9z",
        "outputId": "180f30cc-fa69-40b2-c411-235d52f27b85"
      },
      "execution_count": 3,
      "outputs": [
        {
          "output_type": "stream",
          "name": "stdout",
          "text": [
            "{'userId': 1, 'id': 1, 'title': 'delectus aut autem', 'completed': False}\n"
          ]
        }
      ]
    },
    {
      "cell_type": "markdown",
      "source": [
        "##2️⃣ POST – Create New Data"
      ],
      "metadata": {
        "id": "vsFoMVreSyUo"
      }
    },
    {
      "cell_type": "code",
      "source": [
        "import requests\n",
        "\n",
        "data = {\n",
        "    \"userId\": 1,\n",
        "    \"title\": \"Learn HTTP Methods\",\n",
        "    \"completed\": False\n",
        "}\n",
        "\n",
        "response = requests.post(\"https://jsonplaceholder.typicode.com/todos\", json=data)\n",
        "print(response.json())\n"
      ],
      "metadata": {
        "colab": {
          "base_uri": "https://localhost:8080/"
        },
        "id": "ri81XqY7S3ny",
        "outputId": "b8bbb8ae-d79c-4345-e17e-ad5c4590d9aa"
      },
      "execution_count": 4,
      "outputs": [
        {
          "output_type": "stream",
          "name": "stdout",
          "text": [
            "{'userId': 1, 'title': 'Learn HTTP Methods', 'completed': False, 'id': 201}\n"
          ]
        }
      ]
    },
    {
      "cell_type": "markdown",
      "source": [
        "##3️⃣ PUT – Fully Update an Existing Item\n"
      ],
      "metadata": {
        "id": "x7yPj4H2XZ9u"
      }
    },
    {
      "cell_type": "code",
      "source": [
        "import requests\n",
        "\n",
        "updated_data = {\n",
        "    \"userId\": 1,\n",
        "    \"title\": \"Updated: Learn HTTP Fully\",\n",
        "    \"completed\": True\n",
        "}\n",
        "\n",
        "response = requests.put(\"https://jsonplaceholder.typicode.com/todos/1\", json=updated_data)\n",
        "print(response.json())"
      ],
      "metadata": {
        "colab": {
          "base_uri": "https://localhost:8080/"
        },
        "id": "j1MqdP8XYHRR",
        "outputId": "831b24b8-efb8-4c27-d4cc-f47835242f09"
      },
      "execution_count": 5,
      "outputs": [
        {
          "output_type": "stream",
          "name": "stdout",
          "text": [
            "{'userId': 1, 'title': 'Updated: Learn HTTP Fully', 'completed': True, 'id': 1}\n"
          ]
        }
      ]
    },
    {
      "cell_type": "markdown",
      "source": [
        "##4️⃣ PATCH – Partially Update an Existing Item"
      ],
      "metadata": {
        "id": "D_KW9HI-YQVv"
      }
    },
    {
      "cell_type": "code",
      "source": [
        "import requests\n",
        "\n",
        "partial_update = {\n",
        "    \"completed\": True\n",
        "}\n",
        "\n",
        "response = requests.patch(\"https://jsonplaceholder.typicode.com/todos/1\", json=partial_update)\n",
        "print(response.json())\n"
      ],
      "metadata": {
        "colab": {
          "base_uri": "https://localhost:8080/"
        },
        "id": "iL4iBNDxYp0a",
        "outputId": "31c8371f-7a05-4d41-aeb5-4f6fd7e2abf5"
      },
      "execution_count": 7,
      "outputs": [
        {
          "output_type": "stream",
          "name": "stdout",
          "text": [
            "{'userId': 1, 'id': 1, 'title': 'delectus aut autem', 'completed': True}\n"
          ]
        }
      ]
    },
    {
      "cell_type": "markdown",
      "source": [],
      "metadata": {
        "id": "2aMdMi91Y9iI"
      }
    }
  ]
}