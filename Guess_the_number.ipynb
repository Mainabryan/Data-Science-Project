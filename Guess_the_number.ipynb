{
  "nbformat": 4,
  "nbformat_minor": 0,
  "metadata": {
    "colab": {
      "provenance": [],
      "authorship_tag": "ABX9TyMEIb8kEa5Q4GZtdXaUyBc9",
      "include_colab_link": true
    },
    "kernelspec": {
      "name": "python3",
      "display_name": "Python 3"
    },
    "language_info": {
      "name": "python"
    }
  },
  "cells": [
    {
      "cell_type": "markdown",
      "metadata": {
        "id": "view-in-github",
        "colab_type": "text"
      },
      "source": [
        "<a href=\"https://colab.research.google.com/github/Mainabryan/Data-Science-Project/blob/main/Guess_the_number.ipynb\" target=\"_parent\"><img src=\"https://colab.research.google.com/assets/colab-badge.svg\" alt=\"Open In Colab\"/></a>"
      ]
    },
    {
      "cell_type": "code",
      "execution_count": null,
      "metadata": {
        "id": "imV0nSiuG_I2"
      },
      "outputs": [],
      "source": [
        "import random as rand"
      ]
    },
    {
      "cell_type": "code",
      "source": [
        "import random as rand\n",
        "\n",
        "def play_game():\n",
        "    # Generate a secret number\n",
        "    secret_number = rand.randint(1, 100)\n",
        "\n",
        "    print(\"Welcome to the guess the number game!\")\n",
        "    print(\"I'm thinking of a number between 1 and 100.\")\n",
        "    print(\"Try guessing a number between 1 and 100.\")\n",
        "\n",
        "    # Variable to track the number of guesses\n",
        "    guess_count = 0\n",
        "\n",
        "    while True:\n",
        "        Guess_secret_number = int(input(\"Enter your guess_secret_number: \"))\n",
        "        guess_count += 1  # Increase the guess count each time the player guesses\n",
        "\n",
        "        if Guess_secret_number < secret_number:\n",
        "            print(\"Below the expectation.\")\n",
        "        elif Guess_secret_number > secret_number:\n",
        "            print(\"Your guess is too high.\")\n",
        "        else:\n",
        "            print(f\"Bruv, that's correct! You guessed it in {guess_count} attempts.\")\n",
        "            break  # End the loop when the player guesses correctly\n",
        "\n",
        "# Function to ask if the player wants to play again\n",
        "def ask_play_again():\n",
        "    play_again = input(\"Do you want to play again? (yes/no): \").lower()\n",
        "    return play_again == 'yes'\n",
        "\n",
        "# Main game loop\n",
        "while True:\n",
        "    play_game()  # Play the game\n",
        "    if not ask_play_again():  # If the player doesn't want to play again, exit the loop\n",
        "        print(\"Thanks for playing!\")\n",
        "        break\n"
      ],
      "metadata": {
        "colab": {
          "base_uri": "https://localhost:8080/"
        },
        "id": "dSneVksZQ3cZ",
        "outputId": "f506dcc1-9658-4456-fc64-0effcb4af7fe"
      },
      "execution_count": null,
      "outputs": [
        {
          "metadata": {
            "tags": null
          },
          "name": "stdout",
          "output_type": "stream",
          "text": [
            "Welcome to the guess the number game!\n",
            "I'm thinking of a number between 1 and 100.\n",
            "Try guessing a number between 1 and 100.\n"
          ]
        }
      ]
    },
    {
      "cell_type": "markdown",
      "source": [
        "# part of guessing the number"
      ],
      "metadata": {
        "id": "sAwJzSCCJ0rz"
      }
    },
    {
      "cell_type": "code",
      "source": [],
      "metadata": {
        "id": "oX-6pFwhHlI3"
      },
      "execution_count": null,
      "outputs": []
    }
  ]
}