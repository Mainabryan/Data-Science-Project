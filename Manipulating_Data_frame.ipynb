{
  "nbformat": 4,
  "nbformat_minor": 0,
  "metadata": {
    "colab": {
      "provenance": [],
      "authorship_tag": "ABX9TyOOiE/mIyHIDu3kl/Fa9t1Z",
      "include_colab_link": true
    },
    "kernelspec": {
      "name": "python3",
      "display_name": "Python 3"
    },
    "language_info": {
      "name": "python"
    }
  },
  "cells": [
    {
      "cell_type": "markdown",
      "metadata": {
        "id": "view-in-github",
        "colab_type": "text"
      },
      "source": [
        "<a href=\"https://colab.research.google.com/github/Mainabryan/Data-Science-Project/blob/main/Manipulating_Data_frame.ipynb\" target=\"_parent\"><img src=\"https://colab.research.google.com/assets/colab-badge.svg\" alt=\"Open In Colab\"/></a>"
      ]
    },
    {
      "cell_type": "markdown",
      "source": [
        "In this exercise, you will work with a dataset called \"employee info\" that contains information about employees in a company. The dataset includes columns such as Name, Department, Age, Gender, Salary, and Experience.\n",
        "\n",
        "Create a dataframe called \"employee_df\" with the following data:\n",
        "\n",
        "import pandas as pd\n",
        "\n",
        "data = {'Name': ['John', 'Mary', 'Bob', 'Sarah', 'Tom', 'Lisa'], 'Department': ['IT', 'Marketing', 'Sales', 'IT', 'Finance', 'Marketing'], 'Age': [30, 40, 25, 35, 45, 28], 'Gender': ['Male', 'Female', 'Male', 'Female', 'Male', 'Female'], 'Salary': [50000, 60000, 45000, 55000, 70000, 55000], 'Experience': [3, 7, 2, 5, 10, 4]}\n",
        "\n",
        " employee_df = pd.DataFrame(data)\n",
        "\n",
        "\n",
        "\n",
        "Use the iloc method to select the first 3 rows of the dataframe.\n",
        "Use the loc method to select all rows where the Department is \"Marketing\".\n",
        "Use the iloc method to select the Age and Gender columns for the first 4 rows of the dataframe.\n",
        "Use the loc method to select the Salary and Experience columns for all rows where the Gender is \"Male\"."
      ],
      "metadata": {
        "id": "eTBEDZJzfSF3"
      }
    },
    {
      "cell_type": "code",
      "execution_count": 3,
      "metadata": {
        "colab": {
          "base_uri": "https://localhost:8080/"
        },
        "id": "GUueRRv2Z-82",
        "outputId": "33a8766e-ca57-4b78-fe3b-3644806c4403"
      },
      "outputs": [
        {
          "output_type": "stream",
          "name": "stdout",
          "text": [
            "    Name Department  Age  Gender  Salary  Experience\n",
            "0   John         IT   30    Male   50000           3\n",
            "1   Mary  Marketing   40  Female   60000           7\n",
            "2    Bob      Sales   25    Male   45000           2\n",
            "3  Sarah         IT   35  Female   55000           5\n",
            "4    Tom    Finance   45    Male   70000          10\n",
            "5   Lisa  Marketing   28  Female   55000           4\n"
          ]
        }
      ],
      "source": [
        "import pandas as pd\n",
        "data = {\n",
        "    'Name':['John', 'Mary', 'Bob','Sarah','Tom','Lisa'],\n",
        "    'Department': ['IT','Marketing','Sales','IT','Finance','Marketing'],\n",
        "    'Age': [30, 40, 25, 35, 45, 28],\n",
        "    'Gender': ['Male', 'Female', 'Male', 'Female', 'Male', 'Female'],\n",
        "    'Salary' :[50000, 60000, 45000, 55000, 70000, 55000],\n",
        "    'Experience':[3, 7, 2, 5, 10, 4]\n",
        "\n",
        "\n",
        "}\n",
        "employee_df = pd.DataFrame(data)\n",
        "print(employee_df)\n"
      ]
    },
    {
      "cell_type": "markdown",
      "source": [
        "1.Use the iloc method to select the first 3 rows of the dataframe."
      ],
      "metadata": {
        "id": "I7iSEVGTfx1q"
      }
    },
    {
      "source": [
        "frst_three_rows = employee_df.iloc[:3]\n",
        "print(frst_three_rows)"
      ],
      "cell_type": "code",
      "metadata": {
        "colab": {
          "base_uri": "https://localhost:8080/"
        },
        "id": "u7tT4v0rglAJ",
        "outputId": "3d6f53a9-9abf-4a86-8e15-0aef994e620d"
      },
      "execution_count": 7,
      "outputs": [
        {
          "output_type": "stream",
          "name": "stdout",
          "text": [
            "   Name Department  Age  Gender  Salary  Experience\n",
            "0  John         IT   30    Male   50000           3\n",
            "1  Mary  Marketing   40  Female   60000           7\n",
            "2   Bob      Sales   25    Male   45000           2\n"
          ]
        }
      ]
    },
    {
      "cell_type": "markdown",
      "source": [
        "Use the loc method to select all rows where the Department is \"Marketing\""
      ],
      "metadata": {
        "id": "AfGxJ8-cgsIK"
      }
    },
    {
      "cell_type": "code",
      "source": [
        "Marketing = employee_df.loc[employee_df['Department'] == 'Marketing']\n",
        "print(Marketing)"
      ],
      "metadata": {
        "colab": {
          "base_uri": "https://localhost:8080/"
        },
        "id": "2CgypIAcaq47",
        "outputId": "5936f550-5eee-4aef-9b57-082f9c1007c2"
      },
      "execution_count": 6,
      "outputs": [
        {
          "output_type": "stream",
          "name": "stdout",
          "text": [
            "   Name Department  Age  Gender  Salary  Experience\n",
            "1  Mary  Marketing   40  Female   60000           7\n",
            "5  Lisa  Marketing   28  Female   55000           4\n"
          ]
        }
      ]
    },
    {
      "cell_type": "markdown",
      "source": [
        "Use the iloc method to select the Age and Gender columns for the first 4 rows of the dataframe."
      ],
      "metadata": {
        "id": "xBtaG-TYhefu"
      }
    },
    {
      "cell_type": "code",
      "source": [
        "first_4_rows_age_gender = employee_df.iloc[0:4, [2, 3]]\n",
        "print(first_4_rows_age_gender)\n"
      ],
      "metadata": {
        "colab": {
          "base_uri": "https://localhost:8080/"
        },
        "id": "LpO3vj94hjFy",
        "outputId": "d45a1be6-f7ba-4743-885e-9a4338c6133e"
      },
      "execution_count": 12,
      "outputs": [
        {
          "output_type": "stream",
          "name": "stdout",
          "text": [
            "   Age  Gender\n",
            "0   30    Male\n",
            "1   40  Female\n",
            "2   25    Male\n",
            "3   35  Female\n"
          ]
        }
      ]
    },
    {
      "cell_type": "markdown",
      "source": [
        "Use the loc method to select the Salary and Experience columns for all rows where the Gender is \"Male\".\n"
      ],
      "metadata": {
        "id": "DNjk2nJcjB_Q"
      }
    },
    {
      "cell_type": "code",
      "source": [
        "Male = employee_df.loc[employee_df['Gender'] == 'Male', ['Salary', 'Experience']]\n",
        "print(Male)\n",
        ""
      ],
      "metadata": {
        "colab": {
          "base_uri": "https://localhost:8080/"
        },
        "id": "7iy1iSekiDTd",
        "outputId": "2fc3b51e-d539-4075-d69b-12fee9305dc5"
      },
      "execution_count": 13,
      "outputs": [
        {
          "output_type": "stream",
          "name": "stdout",
          "text": [
            "   Salary  Experience\n",
            "0   50000           3\n",
            "2   45000           2\n",
            "4   70000          10\n"
          ]
        }
      ]
    }
  ]
}