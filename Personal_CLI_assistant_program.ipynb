{
  "nbformat": 4,
  "nbformat_minor": 0,
  "metadata": {
    "colab": {
      "provenance": [],
      "authorship_tag": "ABX9TyN8D4GOhqjzkHSw5tyXvL5r",
      "include_colab_link": true
    },
    "kernelspec": {
      "name": "python3",
      "display_name": "Python 3"
    },
    "language_info": {
      "name": "python"
    }
  },
  "cells": [
    {
      "cell_type": "markdown",
      "metadata": {
        "id": "view-in-github",
        "colab_type": "text"
      },
      "source": [
        "<a href=\"https://colab.research.google.com/github/Mainabryan/Data-Science-Project/blob/main/Personal_CLI_assistant_program.ipynb\" target=\"_parent\"><img src=\"https://colab.research.google.com/assets/colab-badge.svg\" alt=\"Open In Colab\"/></a>"
      ]
    },
    {
      "cell_type": "code",
      "source": [
        "\n",
        "import random as rand\n",
        "import time\n",
        "from datetime import datetime\n",
        "#greet the user\n",
        "def greet_user():\n",
        "  print('Hello! am your assistant guiding you to your day to day activity')\n",
        "#function 2Tell the current timee and date\n",
        "def current_time():\n",
        "  now = datetime.now()\n",
        "  current_time = now.strftime(\"%H:%M:%S\")\n",
        "  current_date = now.strftime(\"%d/%m/%Y\")\n",
        "  print(\"Current Time =\", current_time)\n",
        "  print(\"Current Date =\", current_date)\n",
        "\n",
        "#suggest the weather based on the temperature\n",
        "def suggest_weather(temperature):\n",
        "  temperature = int(input(\"Enter the current temp in degrees celcius: \"))\n",
        "\n",
        "  if temperature > 30:\n",
        "    print(\"Kindly wear a baggy jeans\")\n",
        "    #if you dont have a shprt have naother suggestions\n",
        "    have_shorts = input(\"Do you have shorts?(yes/no):\").lower()\n",
        "    if have_shorts != \"yes\":\n",
        "      print(\"No worries you can wear buggy jeans\")\n",
        "      have_buggy_jeans = input(\"Do you have buggy jeans?(yes/no):\").lower()\n",
        "      if have_buggy_jeans != \"yes\":\n",
        "        print(\"No worries you can get out naked its actually cool!\")\n",
        "\n",
        "  elif 20 <= temperature <= 30:\n",
        "    print(\"Print perfect weather wear a t-shirt\")\n",
        "    have_shirt = input(\"Do you have a shirt?(yes/no):\").lower()\n",
        "    if have_shirt != \"yes\":\n",
        "      print(\"No worries you can wear a longsleeve shirt\")\n",
        "      have_longsleeve = input(\"Do you have a longsleeve shirt?(yes/no):\").lower()\n",
        "      if have_longsleeve != \"yes\":\n",
        "        print(\"No worries you can wear a vest\")\n",
        "\n",
        "\n",
        "  else:\n",
        "   print(\"The temperature is excluively cold!!\")\n",
        "   print(\"Just remain in the house!\")\n",
        "   #if you have no house here is the other thing\n",
        "   have_house = input(\"Do you have a house?(yes/no):\").lower()\n",
        "   if have_house != \"yes\":\n",
        "     print(\"No worries just light a fire and be warmth\")\n",
        "     have_fire = input(\"Do you have a fire?(yes/no):\").lower()\n",
        "     if have_fire != \"yes\":\n",
        "       print(\"No worries you will die!!\")\n",
        "\n",
        "#check the age classification\n",
        "def age_classification():\n",
        "  age = int(input(\"Enter your age:\"))\n",
        "\n",
        "  if age < 10:\n",
        "    print(\"Bruv you are underage\")\n",
        "  elif 13 <= age <= 18:\n",
        "    print(\"You are still a kid\")\n",
        "  elif 19 <= age <= 90:\n",
        "    print(\"You are an adult\")\n",
        "  else:\n",
        "    print(\"You are a senior citizen\")\n",
        "\n",
        "def continue_program():\n",
        "    play_again = input(\"Do you want to continue playing the game? (yes/no):\").lower()\n",
        "    return play_again == \"yes\"\n",
        "\n",
        "def main():\n",
        "    while True:\n",
        "        greet_user()\n",
        "        print(\"Options:\")\n",
        "        print(\"1. Current time and date\")\n",
        "        print(\"2. Suggest weather\")\n",
        "        print(\"3. Age classification\")\n",
        "\n",
        "        try:\n",
        "            choice = int(input(\"Enter the number of your choice:\"))\n",
        "        except ValueError:\n",
        "            print(\"Invalid input. Please enter a number.\")\n",
        "            continue\n",
        "\n",
        "        if choice == 1:\n",
        "            current_time()\n",
        "        elif choice == 2:\n",
        "            suggest_weather(25) #Example temperature, you might want to take input here.\n",
        "        elif choice == 3:\n",
        "            age_classification()\n",
        "        else:\n",
        "            print(\"Invalid option, kindly try one of the 3 options.\")\n",
        "\n",
        "        if not continue_program():\n",
        "            break\n",
        "main()\n",
        ""
      ],
      "metadata": {
        "colab": {
          "base_uri": "https://localhost:8080/"
        },
        "id": "Eii3CpWhlZhi",
        "outputId": "8fbec6ff-3da8-4fce-9cdb-d1a01a0d0ee1"
      },
      "execution_count": null,
      "outputs": [
        {
          "output_type": "stream",
          "name": "stdout",
          "text": [
            "Hello! am your assistant guiding you to your day to day activity\n",
            "Options:\n",
            "1. Current time and date\n",
            "2. Suggest weather\n",
            "3. Age classification\n",
            "Enter the number of your choice:2\n",
            "Enter the current temp in degrees celcius: 23\n",
            "Print perfect weather wear a t-shirt\n",
            "Do you have a shirt?(yes/no):no\n",
            "No worries you can wear a longsleeve shirt\n",
            "Do you have a longsleeve shirt?(yes/no):no\n",
            "No worries you can wear a vest\n",
            "Do you want to continue playing the game? (yes/no):yes\n",
            "Hello! am your assistant guiding you to your day to day activity\n",
            "Options:\n",
            "1. Current time and date\n",
            "2. Suggest weather\n",
            "3. Age classification\n",
            "Enter the number of your choice:2\n",
            "Enter the current temp in degrees celcius: 70\n",
            "Kindly wear a baggy jeans\n",
            "Do you have shorts?(yes/no):no\n",
            "No worries you can wear buggy jeans\n",
            "Do you have buggy jeans?(yes/no):no\n",
            "No worries you can get out naked its actually cool!\n"
          ]
        }
      ]
    },
    {
      "cell_type": "code",
      "source": [
        "#greet the user\n"
      ],
      "metadata": {
        "id": "9z6wDMuuPsa1"
      },
      "execution_count": null,
      "outputs": []
    }
  ]
}