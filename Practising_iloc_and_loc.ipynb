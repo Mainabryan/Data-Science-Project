{
  "nbformat": 4,
  "nbformat_minor": 0,
  "metadata": {
    "colab": {
      "provenance": [],
      "authorship_tag": "ABX9TyP1+e6TCSRIFANNi1wjBhFh",
      "include_colab_link": true
    },
    "kernelspec": {
      "name": "python3",
      "display_name": "Python 3"
    },
    "language_info": {
      "name": "python"
    }
  },
  "cells": [
    {
      "cell_type": "markdown",
      "metadata": {
        "id": "view-in-github",
        "colab_type": "text"
      },
      "source": [
        "<a href=\"https://colab.research.google.com/github/Mainabryan/Data-Science-Project/blob/main/Practising_iloc_and_loc.ipynb\" target=\"_parent\"><img src=\"https://colab.research.google.com/assets/colab-badge.svg\" alt=\"Open In Colab\"/></a>"
      ]
    },
    {
      "cell_type": "markdown",
      "source": [
        "Use iloc to select the first 4 rows.\n",
        "\n",
        "Use iloc to get the Score and Grade for the last 3 students.\n",
        "\n",
        "Use iloc to select all columns of the students from index 2 to 5.\n",
        "\n",
        "Use iloc to get the Student names and whether they Passed for the first 3 rows."
      ],
      "metadata": {
        "id": "YHb2dwe5p4Tz"
      }
    },
    {
      "cell_type": "code",
      "execution_count": null,
      "metadata": {
        "colab": {
          "base_uri": "https://localhost:8080/"
        },
        "id": "oByw3AfipwG1",
        "outputId": "642d3afc-21fc-4678-ebd4-3d9a09fbad96"
      },
      "outputs": [
        {
          "output_type": "stream",
          "name": "stdout",
          "text": [
            "  Student  Subject  Score Grade  Passed\n",
            "0   Alice     Math     88    B+    True\n",
            "1   Brian  Science     92     A    True\n",
            "2   Clara     Math     75     C   False\n",
            "3   David  History     85     B    True\n",
            "4    Ella  Science     90    A-    True\n",
            "5   Frank  History     78    B-    True\n"
          ]
        }
      ],
      "source": [
        "import pandas as pd\n",
        "\n",
        "data = {\n",
        "    'Student': ['Alice', 'Brian', 'Clara', 'David', 'Ella', 'Frank'],\n",
        "    'Subject': ['Math', 'Science', 'Math', 'History', 'Science', 'History'],\n",
        "    'Score': [88, 92, 75, 85, 90, 78],\n",
        "    'Grade': ['B+', 'A', 'C', 'B', 'A-', 'B-'],\n",
        "    'Passed': [True, True, False, True, True, True]\n",
        "}\n",
        "\n",
        "students_df = pd.DataFrame(data)\n",
        "print(students_df)\n"
      ]
    },
    {
      "cell_type": "markdown",
      "source": [
        "USE ILOCTO SELECT the first 4 rows"
      ],
      "metadata": {
        "id": "xOww3IHxqiM0"
      }
    },
    {
      "cell_type": "code",
      "source": [
        "first_4_rows = students_df.iloc[:4]\n",
        "print(first_4_rows)"
      ],
      "metadata": {
        "colab": {
          "base_uri": "https://localhost:8080/"
        },
        "id": "QgTmL-gxqhLT",
        "outputId": "77ebc5d9-5101-439e-c727-9678c25dd8ed"
      },
      "execution_count": null,
      "outputs": [
        {
          "output_type": "stream",
          "name": "stdout",
          "text": [
            "  Student  Subject  Score Grade  Passed\n",
            "0   Alice     Math     88    B+    True\n",
            "1   Brian  Science     92     A    True\n",
            "2   Clara     Math     75     C   False\n",
            "3   David  History     85     B    True\n"
          ]
        }
      ]
    },
    {
      "cell_type": "markdown",
      "source": [
        "Use iloc to get the Score and Grade for the last 3 students."
      ],
      "metadata": {
        "id": "M6KwOm0UrH7g"
      }
    },
    {
      "cell_type": "code",
      "source": [
        "last_3_students = students_df.iloc[-3:,[2,3]]\n",
        "print(last_3_students)"
      ],
      "metadata": {
        "colab": {
          "base_uri": "https://localhost:8080/"
        },
        "id": "oNSvotNBrLj-",
        "outputId": "4f42bd74-42d8-4ad6-dd1f-efe57c5fbaa2"
      },
      "execution_count": null,
      "outputs": [
        {
          "output_type": "stream",
          "name": "stdout",
          "text": [
            "   Score Grade\n",
            "3     85     B\n",
            "4     90    A-\n",
            "5     78    B-\n"
          ]
        }
      ]
    },
    {
      "cell_type": "markdown",
      "source": [
        "Use iloc to select all columns of the students from index 2 to 5."
      ],
      "metadata": {
        "id": "MDxNIQY9sGGQ"
      }
    },
    {
      "cell_type": "code",
      "source": [
        "columns_from__indexed_2_to_3 = students_df.iloc[2:3]\n",
        "print(columns_from__indexed_2_to_3)"
      ],
      "metadata": {
        "colab": {
          "base_uri": "https://localhost:8080/"
        },
        "id": "98goc2IfsHaG",
        "outputId": "50a03709-bba4-4234-9eac-b4f385b71657"
      },
      "execution_count": null,
      "outputs": [
        {
          "output_type": "stream",
          "name": "stdout",
          "text": [
            "  Student Subject  Score Grade  Passed\n",
            "2   Clara    Math     75     C   False\n"
          ]
        }
      ]
    }
  ]
}