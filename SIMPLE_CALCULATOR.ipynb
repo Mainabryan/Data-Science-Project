{
  "nbformat": 4,
  "nbformat_minor": 0,
  "metadata": {
    "colab": {
      "provenance": [],
      "authorship_tag": "ABX9TyPo5fvLOtlr7IcrHk1XylpD",
      "include_colab_link": true
    },
    "kernelspec": {
      "name": "python3",
      "display_name": "Python 3"
    },
    "language_info": {
      "name": "python"
    }
  },
  "cells": [
    {
      "cell_type": "markdown",
      "metadata": {
        "id": "view-in-github",
        "colab_type": "text"
      },
      "source": [
        "<a href=\"https://colab.research.google.com/github/Mainabryan/Data-Science-Project/blob/main/SIMPLE_CALCULATOR.ipynb\" target=\"_parent\"><img src=\"https://colab.research.google.com/assets/colab-badge.svg\" alt=\"Open In Colab\"/></a>"
      ]
    },
    {
      "cell_type": "markdown",
      "source": [
        "# How to build a simple calculator\n"
      ],
      "metadata": {
        "id": "96y-ABqE6WC_"
      }
    },
    {
      "cell_type": "code",
      "source": [
        "# HOW TO BUILD A SIMPLE CALCULATOR\n",
        "# 1 ADD\n",
        "# 2 SUBTRACT\n",
        "# 3 MULTIPLICATION\n",
        "# DIVIDE\n",
        "print(\"Select operation.\")\n",
        "print(\"1.Add\")\n",
        "print(\"2.Subtract\")\n",
        "print(\"3.Multiply\")\n",
        "print(\"4.Divide\")\n",
        "\n",
        "operation =int(input(\"Enter choice(1/2/3/4): \"))\n",
        "\n",
        "if operation == 1:\n",
        "    Num1 = int(input(\"Enter first number\"))\n",
        "    Num2 = int(input(\"Enter second number\"))\n",
        "    print(Num1 + Num2)\n",
        "elif operation == 2:\n",
        "    Num1 = int(input(\"Enter first number\"))\n",
        "    Num2 = int(input(\"Enter second number\"))\n",
        "    print(Num1 - Num2)\n",
        "elif operation == 3:\n",
        "    Num1 = int(input(\"Enter first number\"))\n",
        "    Num2 = int(input(\"Enter second number\"))\n",
        "    print(Num1 * Num2)\n",
        "elif operation == 4:\n",
        "    Num1 = int(input(\"Enter first number\"))\n",
        "    Num2 = int(input(\"Enter second number\"))\n",
        "    print(Num1 / Num2)\n",
        "else:\n",
        "    print(\"Invalid input\")\n",
        "\n",
        "\n",
        "\n"
      ],
      "metadata": {
        "colab": {
          "base_uri": "https://localhost:8080/"
        },
        "id": "8-PncC7e72B8",
        "outputId": "d99de904-2e77-47e6-c380-acbb0a18850c"
      },
      "execution_count": 5,
      "outputs": [
        {
          "output_type": "stream",
          "name": "stdout",
          "text": [
            "Select operation.\n",
            "1.Add\n",
            "2.Subtract\n",
            "3.Multiply\n",
            "4.Divide\n",
            "Enter choice(1/2/3/4): 5\n",
            "Invalid input\n"
          ]
        }
      ]
    }
  ]
}