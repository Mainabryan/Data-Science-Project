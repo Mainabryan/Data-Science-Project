{
  "nbformat": 4,
  "nbformat_minor": 0,
  "metadata": {
    "colab": {
      "provenance": [],
      "authorship_tag": "ABX9TyMlF8Ii85kvdO/Rkpc2N94z",
      "include_colab_link": true
    },
    "kernelspec": {
      "name": "python3",
      "display_name": "Python 3"
    },
    "language_info": {
      "name": "python"
    }
  },
  "cells": [
    {
      "cell_type": "markdown",
      "metadata": {
        "id": "view-in-github",
        "colab_type": "text"
      },
      "source": [
        "<a href=\"https://colab.research.google.com/github/Mainabryan/Data-Science-Project/blob/main/Untitled27.ipynb\" target=\"_parent\"><img src=\"https://colab.research.google.com/assets/colab-badge.svg\" alt=\"Open In Colab\"/></a>"
      ]
    },
    {
      "cell_type": "code",
      "execution_count": null,
      "metadata": {
        "id": "DLBQlaJTRFkR"
      },
      "outputs": [],
      "source": [
        "# Ask the user to enter the number of days they used the gym\n",
        "# Define the base charge (Ksh. 2000)\n",
        "# Define the free gym days (15 days)\n",
        "# Define the extra day charge (Ksh. 100 per extra day)\n",
        "# Define the VAT rate (10%)\n",
        "\n",
        "# Calculate extra days used (if any) using max(0, days_used - free_days)\n",
        "# Calculate extra days charge\n",
        "\n",
        "# Calculate the subtotal (base charge + extra days charge)\n",
        "# Calculate the tax amount (subtotal * VAT rate)\n",
        "# Calculate the total bill (subtotal + tax amount)\n",
        "\n",
        "# Display the base charge\n",
        "# Display extra days charge (only if applicable)\n",
        "# Display tax\n",
        "# Display total bill (formatted to 2 decimal places)\n",
        "\n",
        "base_charge = 2000\n",
        "free_gym_days = 15\n",
        "extra_day_charge = 100\n",
        "vat_rate = 0.1\n",
        "\n",
        "days_used = int(input(\"Enter the number of days you used the gym: \"))\n",
        "extra_days = max(0, days_used - free_gym_days)\n",
        "extra_days_charge = extra_days * extra_day_charge\n",
        "subtotal =base_charge +extra_days_charge\n",
        "tax_amount = subtotal * vat_rate\n",
        "total_bill = subtotal + tax_amount\n",
        "\n",
        "print(\"Base charge: Ksh. {:.2f}\".format(base_charge))\n",
        "if extra_days > 0:\n",
        "  print(\"Extra days charge: Ksh. {:.2f}\".format(extra_days_charge))\n",
        "print(\"Tax: Ksh. {:.2f}\".format(tax_amount))\n",
        "print(\"Total bill: Ksh. {:.2f}\".format(total_bill))"
      ]
    },
    {
      "cell_type": "code",
      "source": [],
      "metadata": {
        "id": "YBwg6KRPUli1"
      },
      "execution_count": null,
      "outputs": []
    },
    {
      "cell_type": "code",
      "source": [
        " #Define the base membership charge\n",
        "# Define the VAT rate (16%)\n",
        "# Define free personal training sessions and free equipment rentals\n",
        "# Define extra session charge and extra rental charge\n",
        "# Ask the user how many personal training sessions they used\n",
        "# Ask the user how many gym equipment rentals they used\n",
        "# Calculate extra sessions beyond the free limit\n",
        "# Calculate extra rentals beyond the free limit\n",
        "# Compute the subtotal before tax\n",
        "# Compute the tax amount\n",
        "# Compute the total bill\n",
        "# Print the base charge\n",
        "# Print extra session charge (only if applicable)\n",
        "# Print extra rental charge (only if applicable)\n",
        "# Print tax amount\n",
        "# Print total bill (formatted to 2 decimal places)\n",
        "\n",
        "base_membership_charge = 4000\n",
        "vat_rate = 0.16\n",
        "extra_session_charge = 1000\n",
        "extra_day_charge = 4000\n",
        "free_personal_training_sessions = 10\n",
        "free_equipment_rentals = 5\n",
        "normal_days = 24\n",
        "\n",
        "sessions_used= int(input(\"Enter the number of personal training sessions you used: \"))\n",
        "rentals_used= int(input(\"Enter the number of gym equipment rentals you used: \"))\n",
        "days_used= int(input(\"Enter the number of days you used the gym: \"))\n",
        "\n",
        "extra_sessions = max(0, sessions_used - free_personal_training_sessions)\n",
        "extra_rentals = max(0, rentals_used - free_equipment_rentals)\n",
        "\n",
        "extra_days = max(0, days_used - normal_days)\n",
        "extra_days_charge = extra_days * extra_day_charge\n",
        "\n",
        "subtotal = subtotal = (base_membership_charge +\n",
        "            (extra_sessions * extra_session_charge) +\n",
        "            (extra_days * extra_day_charge))\n",
        "tax_amount = subtotal * vat_rate\n",
        "total_bill = subtotal + tax_amount\n",
        "  print(base_membership_charge)\n",
        " if extra_days > 0:\n",
        "  print(\"Extra days charge: Ksh. {:.2f}\".format(extra_days_charge))\n",
        "  print(\"Extra rental charge: Ksh. {:.2f}\".format(extra_rental_days))\n",
        " print(\"Tax: Ksh. {:.2f}\".format(tax_amount))\n",
        " print(\"Total bill: Ksh. {:.2f}\".format(total_bill))"
      ],
      "metadata": {
        "id": "R0C2sFfwhJ-S"
      },
      "execution_count": null,
      "outputs": []
    }
  ]
}