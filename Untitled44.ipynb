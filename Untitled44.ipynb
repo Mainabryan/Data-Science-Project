{
  "nbformat": 4,
  "nbformat_minor": 0,
  "metadata": {
    "colab": {
      "provenance": [],
      "authorship_tag": "ABX9TyNlBVLALNiCbNl2oEgpr+ak",
      "include_colab_link": true
    },
    "kernelspec": {
      "name": "python3",
      "display_name": "Python 3"
    },
    "language_info": {
      "name": "python"
    }
  },
  "cells": [
    {
      "cell_type": "markdown",
      "metadata": {
        "id": "view-in-github",
        "colab_type": "text"
      },
      "source": [
        "<a href=\"https://colab.research.google.com/github/Mainabryan/Data-Science-Project/blob/main/Untitled44.ipynb\" target=\"_parent\"><img src=\"https://colab.research.google.com/assets/colab-badge.svg\" alt=\"Open In Colab\"/></a>"
      ]
    },
    {
      "cell_type": "code",
      "execution_count": 1,
      "metadata": {
        "id": "z412T1A-vxBP"
      },
      "outputs": [],
      "source": [
        "import numpy as np"
      ]
    },
    {
      "cell_type": "code",
      "source": [
        "raw_scores = np.array([\n",
        "    78, 65, 89, 55, 91,   # Student 1\n",
        "    82, 70, 95, 60, 87,   # Student 2\n",
        "    67, 72, 88, 58, 90,   # Student 3\n",
        "    90, 85, 92, 75, 95,   # Student 4\n",
        "    59, 60, 65, 50, 62,   # Student 5\n",
        "    73, 68, 80, 62, 78    # Student 6\n",
        "])"
      ],
      "metadata": {
        "id": "aYnhS0aUv5QW"
      },
      "execution_count": 2,
      "outputs": []
    },
    {
      "cell_type": "code",
      "source": [
        "scores = raw_scores.reshape(6, 5)\n",
        "print(\"Student Scores Matrix:\\n\", scores)"
      ],
      "metadata": {
        "colab": {
          "base_uri": "https://localhost:8080/"
        },
        "id": "LaX5383yxd9S",
        "outputId": "90128447-8d09-4504-bd0c-7e108f8cc1ca"
      },
      "execution_count": 3,
      "outputs": [
        {
          "output_type": "stream",
          "name": "stdout",
          "text": [
            "Student Scores Matrix:\n",
            " [[78 65 89 55 91]\n",
            " [82 70 95 60 87]\n",
            " [67 72 88 58 90]\n",
            " [90 85 92 75 95]\n",
            " [59 60 65 50 62]\n",
            " [73 68 80 62 78]]\n"
          ]
        }
      ]
    },
    {
      "cell_type": "code",
      "source": [
        "students = np.array([\"Alice\",\"Bryan\",\"Maxwell\",\"Maggie\",\"Tracy\",\"Cynthia\"])\n",
        "Subjects = np.array ([\"Mathematics\",\"History\",\"Geography\",\"Chemistry\",\"Physics\"])"
      ],
      "metadata": {
        "id": "lMryumgPxqpR"
      },
      "execution_count": 4,
      "outputs": []
    },
    {
      "cell_type": "code",
      "source": [
        "curved_scores = scores + 5\n",
        "print(curved_scores)"
      ],
      "metadata": {
        "colab": {
          "base_uri": "https://localhost:8080/"
        },
        "id": "rrTxcQ1Hz44L",
        "outputId": "1976142e-c5b3-42eb-9a82-d0e8383c60bb"
      },
      "execution_count": 7,
      "outputs": [
        {
          "output_type": "stream",
          "name": "stdout",
          "text": [
            "[[ 83  70  94  60  96]\n",
            " [ 87  75 100  65  92]\n",
            " [ 72  77  93  63  95]\n",
            " [ 95  90  97  80 100]\n",
            " [ 64  65  70  55  67]\n",
            " [ 78  73  85  67  83]]\n"
          ]
        }
      ]
    },
    {
      "cell_type": "code",
      "source": [
        "total_marks = curved_scores.sum(axis=0)"
      ],
      "metadata": {
        "id": "Z-mqzmHW5n0F"
      },
      "execution_count": 10,
      "outputs": []
    },
    {
      "cell_type": "code",
      "source": [
        "final_scores = curved_scores ,0,100\n"
      ],
      "metadata": {
        "id": "L98n_Ufcz5d2"
      },
      "execution_count": 14,
      "outputs": []
    },
    {
      "source": [
        "final_scores = curved_scores ,0,100"
      ],
      "cell_type": "code",
      "metadata": {
        "id": "-U8-PSLE-WZg"
      },
      "execution_count": 16,
      "outputs": []
    },
    {
      "source": [
        "for i in range(len(Subjects)):  # Changed to iterate using length of Subjects instead of students.\n",
        "    print(f\"{students[i]}: {Ultimate_results[i]}\") # This matches the number of elements in Ultimate_results"
      ],
      "cell_type": "code",
      "metadata": {
        "colab": {
          "base_uri": "https://localhost:8080/"
        },
        "id": "TvY2dEA-JuVm",
        "outputId": "4343eb67-cac7-4b04-ad0d-03e1aeb9ac4f"
      },
      "execution_count": 33,
      "outputs": [
        {
          "output_type": "stream",
          "name": "stdout",
          "text": [
            "Alice: 479\n",
            "Bryan: 450\n",
            "Maxwell: 539\n",
            "Maggie: 390\n",
            "Tracy: 533\n"
          ]
        }
      ]
    },
    {
      "cell_type": "code",
      "source": [
        "average = final_scores[i].mean()\n",
        "print(average)"
      ],
      "metadata": {
        "colab": {
          "base_uri": "https://localhost:8080/"
        },
        "id": "dfEu5QV9KM3w",
        "outputId": "4b2d2fe4-bbe3-4b86-d71a-42b41ed9cec3"
      },
      "execution_count": 38,
      "outputs": [
        {
          "output_type": "stream",
          "name": "stdout",
          "text": [
            "64.2\n"
          ]
        }
      ]
    },
    {
      "cell_type": "code",
      "source": [
        "if average >=90:\n",
        "  grade = \"A\"\n",
        "elif average >=80:\n",
        "  grade = \"B\"\n",
        "elif average >=70:\n",
        "  grade = \"C\"\n",
        "elif average >=60:\n",
        "  grade = \"D\"\n",
        "else:\n",
        "  grade = \"F\"\n",
        "  print(grade)"
      ],
      "metadata": {
        "id": "NAmQGiuWKYz4"
      },
      "execution_count": 37,
      "outputs": []
    },
    {
      "cell_type": "code",
      "source": [
        "averages = final_scores.mean(axis=1)\n",
        "print(averages)"
      ],
      "metadata": {
        "colab": {
          "base_uri": "https://localhost:8080/"
        },
        "id": "5pZRJqUWN9qQ",
        "outputId": "46f145a1-804c-44dc-e24d-5676dac93547"
      },
      "execution_count": 39,
      "outputs": [
        {
          "output_type": "stream",
          "name": "stdout",
          "text": [
            "[80.6 83.8 80.  92.4 64.2 77.2]\n"
          ]
        }
      ]
    },
    {
      "source": [
        "averages = final_scores.mean(axis=1)\n",
        "grades = []\n",
        "\n",
        "for avg in averages:\n",
        "    if avg >= 90:\n",
        "        grade = \"A\"\n",
        "    elif avg >= 80:\n",
        "        grade = \"B\"\n",
        "    elif avg >= 70:\n",
        "        grade = \"C\"\n",
        "    elif avg >= 60:\n",
        "        grade = \"D\"\n",
        "    else:\n",
        "        grade = \"F\"\n",
        "    grades.append(grade)\n",
        "\n",
        "print(grades)"
      ],
      "cell_type": "code",
      "metadata": {
        "colab": {
          "base_uri": "https://localhost:8080/"
        },
        "id": "NNIhy2lgPhl7",
        "outputId": "cf2c92fd-8c22-43c3-a405-9283a9f1a90f"
      },
      "execution_count": 45,
      "outputs": [
        {
          "output_type": "stream",
          "name": "stdout",
          "text": [
            "['B', 'B', 'B', 'A', 'D', 'C']\n"
          ]
        }
      ]
    },
    {
      "cell_type": "code",
      "source": [
        "for i in range(len(students)):\n",
        "    print(f\"{students[i]}: {grades[i]} : {averages[i]:.2f}\")"
      ],
      "metadata": {
        "colab": {
          "base_uri": "https://localhost:8080/"
        },
        "id": "DFHcKeetffjR",
        "outputId": "de5dd419-867e-4a19-dbcc-43575a62067d"
      },
      "execution_count": 49,
      "outputs": [
        {
          "output_type": "stream",
          "name": "stdout",
          "text": [
            "Alice: B : 80.60\n",
            "Bryan: B : 83.80\n",
            "Maxwell: B : 80.00\n",
            "Maggie: A : 92.40\n",
            "Tracy: D : 64.20\n",
            "Cynthia: C : 77.20\n"
          ]
        }
      ]
    },
    {
      "cell_type": "code",
      "source": [
        "print(\"\\n🏅 Students Who Got A:\")\n",
        "for i in range(len(grades)):\n",
        "    if grades[i] == \"A\":\n",
        "        print(f\"{students[i]} → Average: {averages[i]:.2f}, Grade: {grades[i]}\")"
      ],
      "metadata": {
        "colab": {
          "base_uri": "https://localhost:8080/"
        },
        "id": "KdRf_UhpiMKP",
        "outputId": "6f3fd025-6113-41eb-9eeb-06b55ca7bfb0"
      },
      "execution_count": 51,
      "outputs": [
        {
          "output_type": "stream",
          "name": "stdout",
          "text": [
            "\n",
            "🏅 Students Who Got A:\n",
            "Maggie → Average: 92.40, Grade: A\n"
          ]
        }
      ]
    },
    {
      "cell_type": "code",
      "source": [
        "print(\"n students who got a B:\")\n",
        "for i in range(len(grades)):\n",
        "    if grades[i] == \"B\":\n",
        "        print(f\"{students[i]} → Average: {averages[i]:.2f}, Grade: {grades[i]}\")"
      ],
      "metadata": {
        "colab": {
          "base_uri": "https://localhost:8080/"
        },
        "id": "GQRdCC40iv6T",
        "outputId": "1227b7cd-e827-427b-f84b-f4e9ad19e7b2"
      },
      "execution_count": 54,
      "outputs": [
        {
          "output_type": "stream",
          "name": "stdout",
          "text": [
            "n students who got a B:\n",
            "Alice → Average: 80.60, Grade: B\n",
            "Bryan → Average: 83.80, Grade: B\n",
            "Maxwell → Average: 80.00, Grade: B\n"
          ]
        }
      ]
    },
    {
      "cell_type": "markdown",
      "source": [
        "*italicized text*"
      ],
      "metadata": {
        "id": "GzocxNBjjQHB"
      }
    },
    {
      "cell_type": "code",
      "source": [
        "print(\"n students who got a C:\")\n",
        "for i in range(len(grades)):\n",
        "    if grades[i] == \"C\":\n",
        "        print(f\"{students[i]} → Average: {averages[i]:.2f}, Grade: {grades[i]}\")"
      ],
      "metadata": {
        "colab": {
          "base_uri": "https://localhost:8080/"
        },
        "id": "dmPTejGWjCjx",
        "outputId": "94b77af6-9897-4132-962c-2a4940140711"
      },
      "execution_count": 55,
      "outputs": [
        {
          "output_type": "stream",
          "name": "stdout",
          "text": [
            "n students who got a C:\n",
            "Cynthia → Average: 77.20, Grade: C\n"
          ]
        }
      ]
    },
    {
      "cell_type": "code",
      "source": [
        "print(\"\\n📢 Students Who Need Help (D & F):\")\n",
        "for i in range(len(grades)):\n",
        "    if grades[i] in [\"D\", \"F\"]:\n",
        "        print(f\"{students[i]} → Average: {averages[i]:.2f}, Grade: {grades[i]}\")"
      ],
      "metadata": {
        "colab": {
          "base_uri": "https://localhost:8080/"
        },
        "id": "Utm7IUqMjiaa",
        "outputId": "c920bddd-87c7-4394-d02a-5032f26ddc83"
      },
      "execution_count": 56,
      "outputs": [
        {
          "output_type": "stream",
          "name": "stdout",
          "text": [
            "\n",
            "📢 Students Who Need Help (D & F):\n",
            "Tracy → Average: 64.20, Grade: D\n"
          ]
        }
      ]
    }
  ]
}