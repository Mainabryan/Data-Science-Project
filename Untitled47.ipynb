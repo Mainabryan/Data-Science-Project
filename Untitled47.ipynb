{
  "nbformat": 4,
  "nbformat_minor": 0,
  "metadata": {
    "colab": {
      "provenance": [],
      "authorship_tag": "ABX9TyMUcCi3YRBfvO7Z9scnCibg",
      "include_colab_link": true
    },
    "kernelspec": {
      "name": "python3",
      "display_name": "Python 3"
    },
    "language_info": {
      "name": "python"
    }
  },
  "cells": [
    {
      "cell_type": "markdown",
      "metadata": {
        "id": "view-in-github",
        "colab_type": "text"
      },
      "source": [
        "<a href=\"https://colab.research.google.com/github/Mainabryan/Data-Science-Project/blob/main/Untitled47.ipynb\" target=\"_parent\"><img src=\"https://colab.research.google.com/assets/colab-badge.svg\" alt=\"Open In Colab\"/></a>"
      ]
    },
    {
      "cell_type": "code",
      "source": [
        "import numpy as np\n",
        "\n",
        "arr = np.array([85, 90, 88, 92, 95, 80, 75, 98, 89, 83])\n",
        "mean = np.mean([85, 90, 88, 92, 95, 80, 75, 98, 89, 83])\n",
        "median = np.median([85, 90, 88, 92, 95, 80, 75, 98, 89, 83])\n",
        "standard_deviation = (np.std([85, 90, 88, 92, 95, 80, 75, 98, 89, 83]))\n",
        "print(\"Mean:\", mean)\n",
        "print(\"Median:\", median)\n",
        "print(f\"Standard Deviation: {standard_deviation:.2f}\")\n",
        "\n",
        "max = np.max([85, 90, 88, 92, 95, 80, 75, 98, 89, 83])\n",
        "min = np.min([85, 90, 88, 92, 95, 80, 75, 98, 89, 83])\n",
        "print(f\"Max: {max:.2f}\")\n",
        "print(f\"Min: {min:.2f}\")\n",
        "\n",
        "sort = np.sort([85, 90, 88, 92, 95, 80, 75, 98, 89, 83])\n",
        "print(sort)\n",
        "\n",
        "highest_grade = np.argmax([85, 90, 88, 92, 95, 80, 75, 98, 89, 83])\n",
        "print(f\"Highest grade: {highest_grade:.2f}\")\n",
        "\n",
        "sum = np.sum([85, 90, 88, 92, 95, 80, 75, 98, 89, 83])\n",
        "print(f\"Sum: {sum:.2f}\")\n",
        "\n",
        "grades = np.array([85, 90, 88, 92, 95, 80, 75, 98, 89, 83])\n",
        "percentage_of_students_above_90 = np.mean(grades > 90) * 100\n",
        "print(f\"Percentage of students above 90: {percentage_of_students_above_90:.2f}\")\n",
        "\n",
        "percentage_of_students_above_70 = np.mean(grades > 70) * 100\n",
        "print(f\"Percentage of students above 70: {percentage_of_students_above_70:.2f}\")\n",
        "\n",
        "high_performers = grades[grades >= 90]\n",
        "low_performers = grades[grades <= 70]\n",
        "print(high_performers)\n",
        "print(low_performers)\n"
      ],
      "metadata": {
        "colab": {
          "base_uri": "https://localhost:8080/"
        },
        "id": "oGZS4S1ZbvbS",
        "outputId": "f7788c04-8117-493d-9825-40a7b484abda"
      },
      "execution_count": 18,
      "outputs": [
        {
          "output_type": "stream",
          "name": "stdout",
          "text": [
            "Mean: 87.5\n",
            "Median: 88.5\n",
            "Standard Deviation: 6.59\n",
            "Max: 98.00\n",
            "Min: 75.00\n",
            "[75 80 83 85 88 89 90 92 95 98]\n",
            "Highest grade: 7.00\n",
            "Sum: 875.00\n",
            "Percentage of students above 90: 30.00\n",
            "Percentage of students above 70: 100.00\n",
            "[90 92 95 98]\n",
            "[]\n"
          ]
        }
      ]
    },
    {
      "cell_type": "code",
      "source": [],
      "metadata": {
        "id": "Jbg3Vbc5bxMU"
      },
      "execution_count": null,
      "outputs": []
    }
  ]
}