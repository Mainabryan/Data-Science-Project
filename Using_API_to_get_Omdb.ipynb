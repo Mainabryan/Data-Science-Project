{
  "nbformat": 4,
  "nbformat_minor": 0,
  "metadata": {
    "colab": {
      "provenance": [],
      "authorship_tag": "ABX9TyMZcTDQ+R2vxa2crnS0ltX1",
      "include_colab_link": true
    },
    "kernelspec": {
      "name": "python3",
      "display_name": "Python 3"
    },
    "language_info": {
      "name": "python"
    }
  },
  "cells": [
    {
      "cell_type": "markdown",
      "metadata": {
        "id": "view-in-github",
        "colab_type": "text"
      },
      "source": [
        "<a href=\"https://colab.research.google.com/github/Mainabryan/Data-Science-Project/blob/main/Using_API_to_get_Omdb.ipynb\" target=\"_parent\"><img src=\"https://colab.research.google.com/assets/colab-badge.svg\" alt=\"Open In Colab\"/></a>"
      ]
    },
    {
      "cell_type": "code",
      "execution_count": 14,
      "metadata": {
        "colab": {
          "base_uri": "https://localhost:8080/"
        },
        "id": "vMizaEzMZZd1",
        "outputId": "f829a6fb-fd30-4866-8e80-e2adc7d3b131"
      },
      "outputs": [
        {
          "output_type": "stream",
          "name": "stdout",
          "text": [
            "Requirement already satisfied: requests in /usr/local/lib/python3.11/dist-packages (2.32.3)\n",
            "Requirement already satisfied: pandas in /usr/local/lib/python3.11/dist-packages (2.2.2)\n",
            "Requirement already satisfied: charset-normalizer<4,>=2 in /usr/local/lib/python3.11/dist-packages (from requests) (3.4.2)\n",
            "Requirement already satisfied: idna<4,>=2.5 in /usr/local/lib/python3.11/dist-packages (from requests) (3.10)\n",
            "Requirement already satisfied: urllib3<3,>=1.21.1 in /usr/local/lib/python3.11/dist-packages (from requests) (2.4.0)\n",
            "Requirement already satisfied: certifi>=2017.4.17 in /usr/local/lib/python3.11/dist-packages (from requests) (2025.4.26)\n",
            "Requirement already satisfied: numpy>=1.23.2 in /usr/local/lib/python3.11/dist-packages (from pandas) (2.0.2)\n",
            "Requirement already satisfied: python-dateutil>=2.8.2 in /usr/local/lib/python3.11/dist-packages (from pandas) (2.9.0.post0)\n",
            "Requirement already satisfied: pytz>=2020.1 in /usr/local/lib/python3.11/dist-packages (from pandas) (2025.2)\n",
            "Requirement already satisfied: tzdata>=2022.7 in /usr/local/lib/python3.11/dist-packages (from pandas) (2025.2)\n",
            "Requirement already satisfied: six>=1.5 in /usr/local/lib/python3.11/dist-packages (from python-dateutil>=2.8.2->pandas) (1.17.0)\n"
          ]
        }
      ],
      "source": [
        "pip install requests pandas"
      ]
    },
    {
      "cell_type": "markdown",
      "source": [
        "#Step 2: Sending an HTTP Request"
      ],
      "metadata": {
        "id": "QbYbrN4LatKl"
      }
    },
    {
      "cell_type": "markdown",
      "source": [
        "Import the requests library and set up your API endpoint, key, and parameters. We will send a request to the OMDb API to search for movies related to \"Star Wars\".\n",
        "\n"
      ],
      "metadata": {
        "id": "-XnD710Ma462"
      }
    },
    {
      "cell_type": "code",
      "source": [
        "import requests\n",
        "# API setup\n",
        "base_url = \"https://www.omdbapi.com/\"\n",
        "api_key = \"your_api_key\"  # Replace this with your actual OMDb API key\n",
        "# Parameters for the GET request\n",
        "params = {\n",
        "    \"apikey\": api_key,\n",
        "    \"s\": \"star wars\"\n",
        "}\n",
        "# Sending the GET request\n",
        "response = requests.get(base_url, params=params)"
      ],
      "metadata": {
        "id": "ugvHC9MLasEk"
      },
      "execution_count": 15,
      "outputs": []
    },
    {
      "cell_type": "markdown",
      "source": [
        "##Step 3: Parsing the JSON Response"
      ],
      "metadata": {
        "id": "akPcH-n6b2Rp"
      }
    },
    {
      "cell_type": "code",
      "source": [
        "if response.status_code == 200:\n",
        "    results = response.json()['Search']\n",
        "else:\n",
        "    print(\"Error:\", response.status_code)"
      ],
      "metadata": {
        "colab": {
          "base_uri": "https://localhost:8080/"
        },
        "id": "q-4u50fNb5zs",
        "outputId": "bd9868fe-9a09-42cc-a7a2-9ad5efcf9f37"
      },
      "execution_count": 16,
      "outputs": [
        {
          "output_type": "stream",
          "name": "stdout",
          "text": [
            "Error: 401\n"
          ]
        }
      ]
    },
    {
      "cell_type": "code",
      "source": [
        "import requests\n",
        "\n",
        "# API setup\n",
        "base_url = \"https://www.omdbapi.com/\"\n",
        "api_key = \"abc123\"  # Replace with your real OMDb API key\n",
        "\n",
        "# Parameters for the GET request\n",
        "params = {\n",
        "    \"apikey\": api_key,\n",
        "    \"s\": \"star wars\"\n",
        "}\n",
        "\n",
        "# Sending the GET request\n",
        "response = requests.get(base_url, params=params)\n",
        "\n",
        "if response.status_code == 200:\n",
        "    results = response.json()['Search']\n",
        "    for movie in results:\n",
        "        print(movie['Title'], \"-\", movie['Year'])\n",
        "else:\n",
        "    print(\"Error:\", response.status_code)\n"
      ],
      "metadata": {
        "colab": {
          "base_uri": "https://localhost:8080/"
        },
        "id": "1Tgej-u6dYkV",
        "outputId": "225e05c8-0a9a-4d38-f437-1200fbdb1807"
      },
      "execution_count": 13,
      "outputs": [
        {
          "output_type": "stream",
          "name": "stdout",
          "text": [
            "Error: 401\n"
          ]
        }
      ]
    }
  ]
}