{
  "nbformat": 4,
  "nbformat_minor": 0,
  "metadata": {
    "colab": {
      "provenance": [],
      "authorship_tag": "ABX9TyNchcIZw6U41pwnNu6GPgB5",
      "include_colab_link": true
    },
    "kernelspec": {
      "name": "python3",
      "display_name": "Python 3"
    },
    "language_info": {
      "name": "python"
    }
  },
  "cells": [
    {
      "cell_type": "markdown",
      "metadata": {
        "id": "view-in-github",
        "colab_type": "text"
      },
      "source": [
        "<a href=\"https://colab.research.google.com/github/Mainabryan/Data-Science-Project/blob/main/file_handling.ipynb\" target=\"_parent\"><img src=\"https://colab.research.google.com/assets/colab-badge.svg\" alt=\"Open In Colab\"/></a>"
      ]
    },
    {
      "cell_type": "code",
      "execution_count": null,
      "metadata": {
        "colab": {
          "base_uri": "https://localhost:8080/"
        },
        "id": "WPXxc16z-g1T",
        "outputId": "2db8e62b-1f1d-4602-b8b0-97578d83cac5"
      },
      "outputs": [
        {
          "output_type": "stream",
          "name": "stdout",
          "text": [
            "Mean Temperature: 24.333333333333332\n",
            "Max Temperature: 33 (Day 15 )\n",
            "Min Temperature: 15 (Day 29 )\n",
            "Days above 30°C: [ 4  7 15 20 22 27]\n",
            "Temperatures in Fahrenheit: [82.4 78.8 73.4 87.8 77.  84.2 89.6 62.6 86.  75.2 62.6 73.4 60.8 64.4\n",
            " 91.4 84.2 73.4 68.  80.6 87.8 66.2 89.6 64.4 62.6 77.  80.6 91.4 62.6\n",
            " 59.  77. ]\n",
            "Reshaped Data:\n",
            " [[28 26 23 31 25 29]\n",
            " [32 17 30 24 17 23]\n",
            " [16 18 33 29 23 20]\n",
            " [27 31 19 32 18 17]\n",
            " [25 27 33 17 15 25]]\n",
            "Sorted Temperatures: [15 16 17 17 17 17 18 18 19 20 23 23 23 24 25 25 25 26 27 27 28 29 29 30\n",
            " 31 31 32 32 33 33]\n",
            "Closest Temperature to 25°C: 25\n"
          ]
        }
      ],
      "source": [
        "import numpy as np\n",
        "\n",
        "# Generate 30 random temperatures between 15°C and 35°C\n",
        "temps = np.random.uniform(15, 35, 30).astype(int)\n",
        "\n",
        "# Basic Statistics\n",
        "mean_temp = np.mean(temps)\n",
        "max_temp = np.max(temps)\n",
        "min_temp = np.min(temps)\n",
        "\n",
        "# Find Hottest & Coldest Days\n",
        "hottest_day = np.argmax(temps) + 1\n",
        "coldest_day = np.argmin(temps) + 1\n",
        "\n",
        "# Days Above 30°C\n",
        "hot_days = np.where(temps > 30)[0] + 1\n",
        "\n",
        "# Convert to Fahrenheit\n",
        "temps_fahrenheit = temps * (9/5) + 32\n",
        "\n",
        "# Reshape Data (5x6 Matrix)\n",
        "temps_matrix = temps.reshape(5, 6)\n",
        "\n",
        "# Sort Temperatures\n",
        "sorted_temps = np.sort(temps)\n",
        "\n",
        "# Find Closest Temperature to 25°C\n",
        "closest_temp_index = np.abs(temps - 25).argmin()\n",
        "closest_temp = temps[closest_temp_index]\n",
        "\n",
        "# Print Results\n",
        "print(\"Mean Temperature:\", mean_temp)\n",
        "print(\"Max Temperature:\", max_temp, \"(Day\", hottest_day, \")\")\n",
        "print(\"Min Temperature:\", min_temp, \"(Day\", coldest_day, \")\")\n",
        "print(\"Days above 30°C:\", hot_days)\n",
        "print(\"Temperatures in Fahrenheit:\", temps_fahrenheit)\n",
        "print(\"Reshaped Data:\\n\", temps_matrix)\n",
        "print(\"Sorted Temperatures:\", sorted_temps)\n",
        "print(\"Closest Temperature to 25°C:\", closest_temp)"
      ]
    },
    {
      "cell_type": "code",
      "source": [
        "\n",
        "\n",
        "\n",
        "\n"
      ],
      "metadata": {
        "id": "w4-Ka_lkKhFK"
      },
      "execution_count": null,
      "outputs": []
    }
  ]
}