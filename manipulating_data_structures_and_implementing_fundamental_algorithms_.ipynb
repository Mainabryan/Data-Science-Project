{
  "nbformat": 4,
  "nbformat_minor": 0,
  "metadata": {
    "colab": {
      "provenance": [],
      "authorship_tag": "ABX9TyO9hBqadqi4FVjXdErDmM01",
      "include_colab_link": true
    },
    "kernelspec": {
      "name": "python3",
      "display_name": "Python 3"
    },
    "language_info": {
      "name": "python"
    }
  },
  "cells": [
    {
      "cell_type": "markdown",
      "metadata": {
        "id": "view-in-github",
        "colab_type": "text"
      },
      "source": [
        "<a href=\"https://colab.research.google.com/github/Mainabryan/Data-Science-Project/blob/main/manipulating_data_structures_and_implementing_fundamental_algorithms_.ipynb\" target=\"_parent\"><img src=\"https://colab.research.google.com/assets/colab-badge.svg\" alt=\"Open In Colab\"/></a>"
      ]
    },
    {
      "cell_type": "markdown",
      "source": [
        "Question 1  :\n",
        "\n",
        "Write a Python program that multiplies all the items in a list.\n",
        "\n",
        "Sample list= [2, 3, 6]\n",
        "\n",
        "Result = 36\n",
        "\n",
        "Question 2\n",
        "\n",
        "Write a Python program to get a list, sorted in increasing order by the last element in each tuple, from a given list of non-empty tuples.\n",
        "\n",
        "Sample List : [(2, 5), (1, 2), (4, 4), (2, 3), (2, 1)]\n",
        "\n",
        "Expected result : [(2, 1), (1, 2), (2, 3), (4, 4), (2, 5)]\n",
        "\n",
        "Hint: You can use the sort function.\n",
        "\n",
        "Question 3\n",
        "\n",
        "Write a Python program that combines two dictionaries by adding values for common keys.\n",
        "\n",
        "d1 = {'a': 100, 'b': 200, 'c':300}\n",
        "\n",
        "d2 = {'a': 300, 'b': 200, 'd':400}\n",
        "\n",
        "Expected result: {'a': 400, 'b': 400, 'd': 400, 'c': 300}\n",
        "\n",
        "Question 4\n",
        "\n",
        "With a given integral number n, write a program to generate a dictionary that contains (i, i*i) so that is an integral number between 1 and n (both included). Then the program should print the dictionary. Suppose the following input is supplied to the program: 8. Then, the output should be: {1: 1, 2: 4, 3: 9, 4: 16, 5: 25, 6: 36, 7: 49, 8: 64}\n",
        "\n",
        "Question 5\n",
        "\n",
        "Write a program to sort a tuple by its float element.\n",
        "\n",
        "For example: list= [('item1', '12.20'), ('item2', '15.10'), ('item3', '24.5')]\n",
        "\n",
        "Expected result: [('item3', '24.5'), ('item2', '15.10'), ('item1', '12.20')]\n",
        "\n",
        "Question 6\n",
        "\n",
        "Write a Python program to create a set.\n",
        "\n",
        "Examples : {0, 1, 2, 3, 4}\n",
        "\n",
        "Write a Python program to iteration over sets.\n",
        "\n",
        "Write a Python program to add members in a set and to remove items from a given set."
      ],
      "metadata": {
        "id": "8Ul1Q8gxf6K4"
      }
    },
    {
      "cell_type": "code",
      "execution_count": 1,
      "metadata": {
        "colab": {
          "base_uri": "https://localhost:8080/"
        },
        "id": "4b_tgMi_XN0t",
        "outputId": "2812728d-ada6-4627-d24e-e9bd158aab04"
      },
      "outputs": [
        {
          "output_type": "stream",
          "name": "stdout",
          "text": [
            "36\n"
          ]
        }
      ],
      "source": [
        "#QUESTION 1\n",
        "# Write a Python program that multiplies all the items in a list.\n",
        "\n",
        "# Sample list= [2, 3, 6]\n",
        "\n",
        "# Result = 36\n",
        "\n",
        "numbers = [2, 3, 6]\n",
        "total = 1\n",
        "for x in numbers:\n",
        "    total *= x\n",
        "print(total)"
      ]
    },
    {
      "cell_type": "code",
      "source": [
        "#QUESTION 2\n",
        "# Write a Python program to get a list, sorted in increasing order by the last element in each tuple, from a given list of non-empty tuples.\n",
        "\n",
        "# Sample List : [(2, 5), (1, 2), (4, 4), (2, 3), (2, 1)]\n",
        "\n",
        "# Expected result : [(2, 1), (1, 2), (2, 3), (4, 4), (2, 5)]\n",
        "\n",
        "# Hint: You can use the sort function.\n",
        "sample_list = [(2, 5), (1, 2), (4, 4), (2, 3), (2, 1)]\n",
        "sorted_list = sorted(sample_list, key=lambda x: x[1])\n",
        "print(sorted_list)"
      ],
      "metadata": {
        "colab": {
          "base_uri": "https://localhost:8080/"
        },
        "id": "Ec9f4dSpYA6x",
        "outputId": "c3aa2068-3255-4833-cf28-257ee613ed14"
      },
      "execution_count": 3,
      "outputs": [
        {
          "output_type": "stream",
          "name": "stdout",
          "text": [
            "[(2, 1), (1, 2), (2, 3), (4, 4), (2, 5)]\n"
          ]
        }
      ]
    },
    {
      "cell_type": "code",
      "source": [
        "#understanding def and lambda\n",
        "def square(x):\n",
        "  return x*x\n",
        "\n",
        "square(4)\n",
        "\n",
        "#understanding lambda\n",
        "square_lambda = lambda x: x*x\n",
        "square_lambda(4)\n",
        "\n"
      ],
      "metadata": {
        "colab": {
          "base_uri": "https://localhost:8080/"
        },
        "id": "x8ux8hGCfGUw",
        "outputId": "7c5211b6-d6a9-4062-ae04-e6e40c0ebd5c"
      },
      "execution_count": 7,
      "outputs": [
        {
          "output_type": "execute_result",
          "data": {
            "text/plain": [
              "16"
            ]
          },
          "metadata": {},
          "execution_count": 7
        }
      ]
    },
    {
      "cell_type": "code",
      "source": [
        "# Question 3\n",
        "\n",
        "\n",
        "# Write a Python program that combines two dictionaries by adding values for common keys.\n",
        "\n",
        "# d1 = {'a': 100, 'b': 200, 'c':300}\n",
        "\n",
        "# d2 = {'a': 300, 'b': 200, 'd':400}\n",
        "\n",
        "# Expected result: {'a': 400, 'b': 400, 'd': 400, 'c': 300}\n",
        "d1 = {'a': 100, 'b': 200, 'c':300}\n",
        "d2 = {'a': 300, 'b': 200, 'd':400}\n",
        "result ={}\n",
        "all_keys =set(list(d1.keys()) + list(d2.keys()))\n",
        "for key  in all_keys:\n",
        "    result[key] = d1.get(key,0) +d2.get(key,0)\n",
        "print(result)"
      ],
      "metadata": {
        "colab": {
          "base_uri": "https://localhost:8080/"
        },
        "id": "nymlYKhGfxdP",
        "outputId": "d008655c-1316-44c1-d51a-975b431ca87e"
      },
      "execution_count": 10,
      "outputs": [
        {
          "output_type": "stream",
          "name": "stdout",
          "text": [
            "{'d': 400, 'a': 400, 'b': 400, 'c': 300}\n"
          ]
        }
      ]
    },
    {
      "cell_type": "code",
      "source": [
        "# question 4\n",
        "n = 8\n",
        "square_dict = {}\n",
        "\n",
        "for i in range(1, n + 1):\n",
        "    square_dict[i] = i * i\n",
        "\n",
        "print(square_dict)\n"
      ],
      "metadata": {
        "colab": {
          "base_uri": "https://localhost:8080/"
        },
        "id": "_rjXOBDFl2W6",
        "outputId": "f68ec5cc-d505-4200-843d-e2a3befbc26f"
      },
      "execution_count": 16,
      "outputs": [
        {
          "output_type": "stream",
          "name": "stdout",
          "text": [
            "{1: 1, 2: 4, 3: 9, 4: 16, 5: 25, 6: 36, 7: 49, 8: 64}\n"
          ]
        }
      ]
    },
    {
      "cell_type": "code",
      "source": [
        "# Question 5\n",
        "\n",
        "\n",
        "# Write a program to sort a tuple by its float element.\n",
        "\n",
        "# For example: list= [('item1', '12.20'), ('item2', '15.10'), ('item3', '24.5')]\n",
        "\n",
        "# Expected result: [('item3', '24.5'), ('item2', '15.10'), ('item1', '12.20')]\n",
        "data = [('item1', '12.20'), ('item2', '15.10'), ('item3', '24.5')]\n",
        "\n",
        "# Sort by float value of second element in descending order\n",
        "sorted_data = sorted(data, key=lambda x: float(x[1]), reverse=True)\n",
        "\n",
        "print(sorted_data)\n"
      ],
      "metadata": {
        "colab": {
          "base_uri": "https://localhost:8080/"
        },
        "id": "U8W6KKtZjMSl",
        "outputId": "524df33c-5c5c-4d00-ca22-5cea2a685c0b"
      },
      "execution_count": 17,
      "outputs": [
        {
          "output_type": "stream",
          "name": "stdout",
          "text": [
            "[('item3', '24.5'), ('item2', '15.10'), ('item1', '12.20')]\n"
          ]
        }
      ]
    },
    {
      "cell_type": "code",
      "source": [
        "# Question 6\n",
        "\n",
        "# Write a Python program to create a set.\n",
        "\n",
        "# Examples : {0, 1, 2, 3, 4}\n",
        "\n",
        "# Write a Python program to iteration over sets.\n",
        "\n",
        "# Write a Python program to add members in a set and to remove items from a given set.\n",
        "\n",
        "\n",
        "# Task 1: Create a set\n",
        "my_set = {0, 1, 2, 3, 4}\n",
        "print(\"Original Set:\", my_set)\n",
        "\n",
        "# Task 2: Iterate through the set\n",
        "print(\"Items in the set:\")\n",
        "for item in my_set:\n",
        "    print(item)\n",
        "\n",
        "# Task 3: Add and remove items\n",
        "my_set.add(5)     # Adding item\n",
        "my_set.remove(2)  # Removing item\n",
        "\n",
        "print(\"Updated Set:\", my_set)\n"
      ],
      "metadata": {
        "colab": {
          "base_uri": "https://localhost:8080/"
        },
        "id": "X623sbS8swnn",
        "outputId": "eaec32de-6806-46fe-e160-cc60f2cf1bed"
      },
      "execution_count": 18,
      "outputs": [
        {
          "output_type": "stream",
          "name": "stdout",
          "text": [
            "Original Set: {0, 1, 2, 3, 4}\n",
            "Items in the set:\n",
            "0\n",
            "1\n",
            "2\n",
            "3\n",
            "4\n",
            "Updated Set: {0, 1, 3, 4, 5}\n"
          ]
        }
      ]
    }
  ]
}