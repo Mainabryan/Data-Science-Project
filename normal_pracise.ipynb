{
  "nbformat": 4,
  "nbformat_minor": 0,
  "metadata": {
    "colab": {
      "provenance": [],
      "authorship_tag": "ABX9TyPyUzDkpH7mxaUVVUvWQPY5",
      "include_colab_link": true
    },
    "kernelspec": {
      "name": "python3",
      "display_name": "Python 3"
    },
    "language_info": {
      "name": "python"
    }
  },
  "cells": [
    {
      "cell_type": "markdown",
      "metadata": {
        "id": "view-in-github",
        "colab_type": "text"
      },
      "source": [
        "<a href=\"https://colab.research.google.com/github/Mainabryan/Data-Science-Project/blob/main/normal_pracise.ipynb\" target=\"_parent\"><img src=\"https://colab.research.google.com/assets/colab-badge.svg\" alt=\"Open In Colab\"/></a>"
      ]
    },
    {
      "cell_type": "code",
      "execution_count": 4,
      "metadata": {
        "id": "pNao6LR8qivu",
        "colab": {
          "base_uri": "https://localhost:8080/"
        },
        "outputId": "4eafd7fc-00c1-4184-f006-97fd5d897fb1"
      },
      "outputs": [
        {
          "output_type": "stream",
          "name": "stdout",
          "text": [
            "3\n"
          ]
        }
      ],
      "source": [
        "# Given array and k\n",
        "nums = [1, 2, 3]\n",
        "k = 3\n",
        "\n",
        "# Variable to count good subarrays\n",
        "count = 0\n",
        "\n",
        "# Loop over all starting points\n",
        "for start in range(len(nums)):\n",
        "    total = 0  # sum of elements\n",
        "    # Loop over all ending points\n",
        "    for end in range(start, len(nums)):\n",
        "        total += nums[end]  # add current element\n",
        "        length = end - start + 1  # number of elements\n",
        "        score = total * length  # calculate the score\n",
        "        if score > k:\n",
        "            count += 1  # good subarray found!\n",
        "\n",
        "print(count)  # Final answer\n",
        "\n"
      ]
    },
    {
      "cell_type": "code",
      "source": [
        "nums = [1, 2, 3, 1, 2, 3]\n",
        "k = 10\n",
        "\n",
        "count = 0\n",
        "\n",
        "for start in range(len(nums)):\n",
        "  total = 0\n",
        "  #loop over all starting points\n",
        "  total = 0\n",
        "  for end in range(start, len(nums)):\n",
        "    total += nums[end]\n",
        "nums = [1, 2, 3, 1, 2, 3]\n",
        "k = 10\n",
        "\n",
        "count = 0\n",
        "\n",
        "for start in range(len(nums)):\n",
        "  total = 0\n",
        "  #loop over all starting points\n",
        "  total = 0\n",
        "  for end in range(start, len(nums)):\n",
        "    total += nums[end]\n",
        "    length = end - start + 1\n",
        "    score = total * length\n",
        "    if score >= k:\n",
        "      count += 1\n",
        "print(count)\n"
      ],
      "metadata": {
        "colab": {
          "base_uri": "https://localhost:8080/"
        },
        "id": "MW3PF-6k72hG",
        "outputId": "a7e2f312-4d86-4ec3-a0d6-6e71c7638027"
      },
      "execution_count": 7,
      "outputs": [
        {
          "output_type": "stream",
          "name": "stdout",
          "text": [
            "12\n"
          ]
        }
      ]
    },
    {
      "cell_type": "code",
      "source": [
        "nums = [1, 2, 3, 1, 2, 3]\n",
        "\n",
        "# Variable to count subarrays with distinct elements\n",
        "count = 0\n",
        "\n",
        "# Loop over all starting points\n",
        "for start in range(len(nums)):\n",
        "    seen = set()  # A set to store elements of the current subarray\n",
        "    # Loop over all ending points\n",
        "    for end in range(start, len(nums)):\n",
        "        if nums[end] in seen:\n",
        "            break  # If the element is already in the set, stop expanding the subarray\n",
        "        seen.add(nums[end])  # Add the element to the set\n",
        "        count += 1  # If all elements are distinct, count the subarray\n",
        "\n",
        "print(count)  # Final answer\n"
      ],
      "metadata": {
        "colab": {
          "base_uri": "https://localhost:8080/"
        },
        "id": "1Du5ZaMm-Az7",
        "outputId": "981dd9f9-37ea-4b66-a50b-9c1dbff8aded"
      },
      "execution_count": 8,
      "outputs": [
        {
          "output_type": "stream",
          "name": "stdout",
          "text": [
            "15\n"
          ]
        }
      ]
    },
    {
      "cell_type": "code",
      "source": [],
      "metadata": {
        "id": "2y_J2ppF-BLy"
      },
      "execution_count": null,
      "outputs": []
    }
  ]
}