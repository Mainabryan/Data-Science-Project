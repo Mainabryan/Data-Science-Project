{
  "nbformat": 4,
  "nbformat_minor": 0,
  "metadata": {
    "colab": {
      "provenance": [],
      "authorship_tag": "ABX9TyNi4mpJ6Fhqy5/LQE35w9iR",
      "include_colab_link": true
    },
    "kernelspec": {
      "name": "python3",
      "display_name": "Python 3"
    },
    "language_info": {
      "name": "python"
    }
  },
  "cells": [
    {
      "cell_type": "markdown",
      "metadata": {
        "id": "view-in-github",
        "colab_type": "text"
      },
      "source": [
        "<a href=\"https://colab.research.google.com/github/Mainabryan/Data-Science-Project/blob/main/quote_fetcher_py.ipynb\" target=\"_parent\"><img src=\"https://colab.research.google.com/assets/colab-badge.svg\" alt=\"Open In Colab\"/></a>"
      ]
    },
    {
      "cell_type": "code",
      "execution_count": 1,
      "metadata": {
        "colab": {
          "base_uri": "https://localhost:8080/"
        },
        "id": "NhJWJvyIBebV",
        "outputId": "82411b5b-2767-4ecf-9e99-23200f68fbb1"
      },
      "outputs": [
        {
          "output_type": "stream",
          "name": "stdout",
          "text": [
            "Fetching a random motivational quote...\n",
            "\n",
            "Error fetching quote: HTTPSConnectionPool(host='api.quotable.io', port=443): Max retries exceeded with url: /random (Caused by SSLError(SSLCertVerificationError(1, '[SSL: CERTIFICATE_VERIFY_FAILED] certificate verify failed: certificate has expired (_ssl.c:1016)')))\n",
            "\n",
            "Stay motivated! 💪\n"
          ]
        }
      ],
      "source": [
        "import requests\n",
        "import time\n",
        "\n",
        "def get_random_quote():\n",
        "    try:\n",
        "        response = requests.get(\"https://api.quotable.io/random\")\n",
        "        response.raise_for_status()\n",
        "        data = response.json()\n",
        "        return f'\"{data[\"content\"]}\" — {data[\"author\"]}'\n",
        "    except requests.exceptions.RequestException as e:\n",
        "        return f\"Error fetching quote: {e}\"\n",
        "\n",
        "if __name__ == \"__main__\":\n",
        "    print(\"Fetching a random motivational quote...\\n\")\n",
        "    quote = get_random_quote()\n",
        "    print(quote)\n",
        "    print(\"\\nStay motivated! 💪\")\n"
      ]
    }
  ]
}