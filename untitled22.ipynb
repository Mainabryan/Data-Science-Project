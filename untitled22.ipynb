{
  "nbformat": 4,
  "nbformat_minor": 0,
  "metadata": {
    "colab": {
      "provenance": [],
      "authorship_tag": "ABX9TyM0B0oaBk0PzclhRvYt6itu",
      "include_colab_link": true
    },
    "kernelspec": {
      "name": "python3",
      "display_name": "Python 3"
    },
    "language_info": {
      "name": "python"
    }
  },
  "cells": [
    {
      "cell_type": "markdown",
      "metadata": {
        "id": "view-in-github",
        "colab_type": "text"
      },
      "source": [
        "<a href=\"https://colab.research.google.com/github/Mainabryan/Data-Science-Project/blob/main/untitled22.ipynb\" target=\"_parent\"><img src=\"https://colab.research.google.com/assets/colab-badge.svg\" alt=\"Open In Colab\"/></a>"
      ]
    },
    {
      "cell_type": "code",
      "execution_count": null,
      "metadata": {
        "id": "lV7BSiTvSdUz"
      },
      "outputs": [],
      "source": [
        "temperature = int(input(\"Enter your temperature in degree Celsius: \"))\n",
        "\n",
        "if temperature >= 35:\n",
        "    print(\"It's extremely hot! Stay hydrated. 🌞\")\n",
        "elif 25 <= temperature < 35:\n",
        "    print(\"The weather is warm. ☀️\")\n",
        "elif 15 <= temperature < 25:\n",
        "    print(\"It's a pleasant day. 🌤️\")\n",
        "elif 5 <= temperature < 15:\n",
        "    print(\"It's a bit chilly. Wear a jacket. 🧥\")\n",
        "elif temperature == 0:\n",
        "    print(\"Freezing point of water ❄️\")\n",
        "else:\n",
        "    print(\"It's freezing! Stay warm. ❄️\")"
      ]
    }
  ]
}